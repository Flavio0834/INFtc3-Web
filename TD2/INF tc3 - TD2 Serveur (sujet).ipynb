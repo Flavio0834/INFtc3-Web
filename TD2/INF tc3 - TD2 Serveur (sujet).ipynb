{
    "cells": [
        {
            "cell_type": "markdown",
            "metadata": {},
            "source": [
                "#    <center>Informatique tc3 (Projet Web) - TD2</center>"
            ]
        },
        {
            "cell_type": "markdown",
            "metadata": {},
            "source": [
                "## <center style=\"color: #66d\">Mise en place d'un serveur Web en Python</center>"
            ]
        },
        {
            "cell_type": "markdown",
            "metadata": {},
            "source": [
                "### 1. Pr\u00e9ambule"
            ]
        },
        {
            "cell_type": "markdown",
            "metadata": {},
            "source": [
                "#### a) Modalit\u00e9s pratiques"
            ]
        },
        {
            "cell_type": "markdown",
            "metadata": {},
            "source": [
                "Un serveur est un processus qui tourne ind\u00e9finiment en l'attente de requ\u00eates HTTP auxquelles r\u00e9pondre. Pour cette raison, il n'est pas pratique de d\u00e9velopper des programmes serveurs dans une cellule de notebook.\n",
                "En effet, les cellules sont ex\u00e9cut\u00e9es une \u00e0 une par un m\u00eame processus <i>(le kernel IPython)</i>. Si donc on d\u00e9marre dans une cellule un serveur qui boucle ind\u00e9finiment, les cellules suivantes ne seront jamais ex\u00e9cut\u00e9es...\n",
                "<p style=\"color:#C00\">\n",
                "Pour cette raison, les d\u00e9veloppements \u00e0 mener pour ce TD feront l'objet de fichiers individuels, nomm\u00e9s TD2-sXX.py et d\u00e9marr\u00e9s manuellement via Spyder, IDLE, la ligne de commande ou votre IDE pr\u00e9f\u00e9r\u00e9.\n",
                "\n",
                "Dans Spyder, nous vous conseillons d'ex\u00e9cuter vos programmes dans une <b>console d\u00e9di\u00e9e</b> ce qui permet de facilement tuer le processus en cas de probl\u00e8me et de ne pas bloquer la console de base. Pour cela il suffit d'aller dans le menu \"Ex\u00e9cution&nbsp;|&nbsp;Configurer...\" et de choisir l'option \"Ex\u00e9cuter dans une nouvelle console Python d\u00e9di\u00e9e\" (Nota bene: Ce param\u00e9trage est \u00e0 faire pour chaque fichier `.py`)."
            ]
        },
        {
            "cell_type": "markdown",
            "metadata": {},
            "source": [
                "#### b) Travail \u00e0 r\u00e9aliser"
            ]
        },
        {
            "cell_type": "markdown",
            "metadata": {},
            "source": [
                "Il est important que vous terminiez le travail propos\u00e9 ci-dessous, m\u00eame si vous n'\u00eates pas arriv\u00e9 \u00e0 finir pendant les deux heures imparties. En effet, le code produit en fin de TD, servira pour les TDs suivants et constituera la base de votre serveur de projet."
            ]
        },
        {
            "cell_type": "markdown",
            "metadata": {},
            "source": [
                "### 2. Mise en place d'un serveur Web de pages statiques (30mn)"
            ]
        },
        {
            "cell_type": "markdown",
            "metadata": {},
            "source": [
                "<div style=\"background-color:#fee;padding:10px;border-radius:3px\">\n",
                "<b>N.B.</b> Dans toute la suite il sera suppos\u00e9 que les serveurs que vous d\u00e9velopperez utilisent le port <tt>8080</tt>.\n",
                "Le texte des questions et l'ensemble des liens de ce document permettant de tester vos serveurs font donc syst\u00e9matiquement appel \u00e0 ce num\u00e9ro de port. Si pour une raison ou pour une autre le port <tt>8080</tt> ne convient pas sur votre machine, il sera pertinent de corriger le texte et les liens du pr\u00e9sent document au fur et \u00e0 mesure de l'avancement de ce TD."
            ]
        },
        {
            "cell_type": "markdown",
            "metadata": {},
            "source": [
                "<div style=\"background-color:#eef;padding:10px;border-radius:3px\">\n",
                "<b>2.1 -</b>\n",
                "En vous r\u00e9f\u00e9rant au cours, ou \u00e0 la <a href=\"https://docs.python.org/3/library/http.server.html#http.server.SimpleHTTPRequestHandler.do_GET\">doc python</a>, d\u00e9veloppez un premier serveur tr\u00e8s simple nomm\u00e9 <tt>TD2-s1.py</tt>, qui attend des requ\u00eates GET sur le port 8080 et permet de d\u00e9livrer les documents du r\u00e9pertoire courant."
            ]
        },
        {
            "cell_type": "code",
            "execution_count": 1,
            "metadata": {
                "collapsed": true
            },
            "outputs": [],
            "source": [
                "# L'ex\u00e9cution de cette cellule permet de visualiser le contenu du fichier TD2-s1.py\n",
                "# qui n'existera que quand vous l'aurez d\u00e9velopp\u00e9...\n",
                "#\n",
                "# N.B. D'autres cellules de ce type seront utilis\u00e9es dans la suite de ce notebook\n",
                "#\n",
                "%pycat TD2-s1.py"
            ]
        },
        {
            "cell_type": "markdown",
            "metadata": {},
            "source": [
                "<div style=\"background-color:#eef;padding:10px;border-radius:3px\">\n",
                "<b>2.2 -</b>\n",
                "Une fois \u00e9crit le code de votre serveur, d\u00e9marrez-le via Spyder, votre outil favori, ou la ligne de commande, puis testez-le en ex\u00e9cutant la prochaine cellule. Vous devez obtenir le r\u00e9sultat suivant :\n",
                "<br>\n",
                "<img src=\"TD2-welcome1.png\">"
            ]
        },
        {
            "cell_type": "code",
            "execution_count": 2,
            "metadata": {
                "collapsed": false
            },
            "outputs": [
                {
                    "data": {
                        "text/html": [
                            "\n",
                            "        <iframe\n",
                            "            width=\"1080\"\n",
                            "            height=\"120\"\n",
                            "            src=\"http://localhost:8080/welcome.html\"\n",
                            "            frameborder=\"0\"\n",
                            "            allowfullscreen\n",
                            "        ></iframe>\n",
                            "        "
                        ],
                        "text/plain": [
                            "<IPython.lib.display.IFrame at 0x28dc3b42358>"
                        ]
                    },
                    "execution_count": 1,
                    "metadata": {},
                    "output_type": "execute_result"
                }
            ],
            "source": [
                "from IPython.display import IFrame\n",
                "\n",
                "page = 'http://localhost:8080/welcome.html'\n",
                "\n",
                "# cr\u00e9e un iframe qui effectue une requ\u00eate vers le serveur\n",
                "# que vous \u00eates cens\u00e9s avoir d\u00e9marr\u00e9\n",
                "IFrame(page,1080,120)"
            ]
        },
        {
            "cell_type": "markdown",
            "metadata": {},
            "source": [
                "<div style=\"background-color:#eef;padding:10px;border-radius:3px\">\n",
                "<b>2.3 -</b>\n",
                "Essayez maintenant d'acc\u00e9der aux adresses ci-dessous, observez les messages de log dans la fen\u00eatre de l'interpr\u00e9teur python, et commentez les r\u00e9sultats obtenus (page affich\u00e9e par le navigateur et message de log) :\n",
                "<ul>\n",
                "<li> http://localhost:8080/welcome.html\n",
                "<li> http://localhost:8080/tagada.html\n",
                "<li> http://localhost:8080/\n",
                " </ul>\n",
                " <img src=\"TD2-trace.png\">\n",
                " <div style=\"text-align:center; font-size:80%\">Exemple de message affich\u00e9 par le serveur lors du traitement d'une requ\u00eate.<br>On y voit l'adresse IP du serveur, la date et l'heure, l'URL de la requ\u00eate, et le statut HTTP de la r\u00e9ponse.</div>"
            ]
        },
        {
            "cell_type": "markdown",
            "metadata": {},
            "source": [
                "### 3. Personnalisation du serveur de base (20mn)"
            ]
        },
        {
            "cell_type": "markdown",
            "metadata": {},
            "source": [
                "#### a) Modification du r\u00e9pertoire racine (10mn)"
            ]
        },
        {
            "cell_type": "markdown",
            "metadata": {},
            "source": [
                "Le serveur pr\u00e9c\u00e9dent n'est absolument pas s\u00e9curis\u00e9 : une fois d\u00e9marr\u00e9 sur votre poste il donne acc\u00e8s au contenu du r\u00e9pertoire courant (qui contient notamment les codes source) \u00e0 n'importe qui connaissant son existence et son num\u00e9ro de port.\n",
                "On d\u00e9sire donc d\u00e9velopper un serveur qui au moins ne d\u00e9livre plus que les documents d'un sous-r\u00e9pertoire nomm\u00e9 <tt>client</tt> par exemple. \n",
                "<p>\n",
                "Pour traiter les requ\u00eates entrantes, votre serveur instancie des objets de la classe <tt>http.server.SimpleHTTPRequestHandler</tt>. C'est cette classe qui procure le traitement observ\u00e9, qui consiste \u00e0 envoyer au client le fichier correspondant \u00e0 une requ\u00eate de type GET, un \"listing\" avec des liens lorsqu'il s'agit d'un r\u00e9pertoire, ou un message d'erreur lorsque le fichier n'existe pas.\n",
                "<p>\n",
                "Pour obtenir un comportement plus fin, il est n\u00e9cessaire de cr\u00e9er une sous-classe de <tt>http.server.SimpleHTTPRequestHandler</tt> qui introduit le comportement souhait\u00e9.\n"
            ]
        },
        {
            "cell_type": "markdown",
            "metadata": {},
            "source": [
                "<div style=\"background-color:#eef;padding:10px;border-radius:3px\">\n",
                "<b>3.1 -</b>\n",
                "D\u00e9veloppez une sous-classe de <tt>http.server.SimpleHTTPRequestHandler</tt> qui d\u00e9livre uniquement les documents d'un sous-r\u00e9pertoire nomm\u00e9 <tt>client</tt>. Une requ\u00eate vers l'adresse <tt><span>http:</span>//<span>localhost:</span>8080/welcome.html</tt> devra renvoyer le document <tt>client/welcome.html</tt>.\n",
                "<p><b>N.B.</b>\n",
                "Les plus curieux d'entre vous consulteront la\n",
                "<a href=\"https://docs.python.org/3/library/http.server.html\">doc python</a> pour une description exhaustive des\n",
                "variables de classe et d'instance et des m\u00e9thodes h\u00e9rit\u00e9es par une telle sous-classe, les autres\n",
                "se contenteront du code source fourni en cours, d'un serveur qui impl\u00e9mente pr\u00e9cis\u00e9ment la fonctionnalit\u00e9 demand\u00e9e.\n",
                "<p>\n",
                "Ecrivez et testez un serveur nomm\u00e9 <tt>TD2-s2.py</tt> qui utilise cette sous-classe et exhibe le comportement attendu :\n",
                "<br>\n",
                "<img src=\"TD2-welcome2.png\">"
            ]
        },
        {
            "cell_type": "code",
            "execution_count": 3,
            "metadata": {
                "collapsed": true
            },
            "outputs": [],
            "source": [
                "# Ex\u00e9cuter cette cellule pour afficher le contenu de TD2-s2.py\n",
                "%pycat TD2-s2.py"
            ]
        },
        {
            "cell_type": "code",
            "execution_count": 4,
            "metadata": {
                "collapsed": false
            },
            "outputs": [
                {
                    "data": {
                        "text/html": [
                            "\n",
                            "        <iframe\n",
                            "            width=\"1080\"\n",
                            "            height=\"120\"\n",
                            "            src=\"http://localhost:8080/welcome.html?x\"\n",
                            "            frameborder=\"0\"\n",
                            "            allowfullscreen\n",
                            "        ></iframe>\n",
                            "        "
                        ],
                        "text/plain": [
                            "<IPython.lib.display.IFrame at 0x28dc3b422b0>"
                        ]
                    },
                    "execution_count": 2,
                    "metadata": {},
                    "output_type": "execute_result"
                }
            ],
            "source": [
                "# Pour tester le fonctionnement du serveur TD2-s2.py\n",
                "# on peut \u00e9galement entrer directement l'URL mentionn\u00e9e ci-dessous\n",
                "# dans la barre d'adresse du navigateur...\n",
                "#\n",
                "IFrame('http://localhost:8080/welcome.html?x',1080,120)"
            ]
        },
        {
            "cell_type": "markdown",
            "metadata": {},
            "source": [
                "<div style=\"background-color:#eef;padding:10px;border-radius:3px\">\n",
                "<b>3.2 -</b>\n",
                "Testez les liens ci-dessous et commentez les r\u00e9sultats obtenus :\n",
                " - http://localhost:8080/welcome.html\n",
                " - http://localhost:8080/tagada.html\n",
                " - http://localhost:8080/"
            ]
        },
        {
            "cell_type": "markdown",
            "metadata": {},
            "source": [
                "#### b) R\u00f4le des fichiers index.html (10mn)"
            ]
        },
        {
            "cell_type": "markdown",
            "metadata": {},
            "source": [
                "Le serveur dont vous disposez \u00e0 pr\u00e9sent est capable de d\u00e9livrer toutes les ressources disponibles dans la sous-arborescence du r\u00e9pertoire <tt>client</tt>. Ces ressources peuvent correspondre \u00e0 des fichiers texte (<tt>HTML</tt> ou pas), des images (<tt>gif</tt>, <tt>jpg</tt>, <tt>png</tt>), ou poss\u00e9der d'autres formats reconnus par un navigateur (vid\u00e9os, <tt>pdf</tt>, <tt>svg</tt>,&nbsp;...)."
            ]
        },
        {
            "cell_type": "markdown",
            "metadata": {},
            "source": [
                "<div style=\"background-color:#eef;padding:10px;border-radius:3px\">\n",
                "<b>3.3 -</b>\n",
                "Testez ce point pour vous en convaincre, avec les documents existants dans l'arborescence, et en rajoutant un r\u00e9pertoire <tt>client/perso</tt> dans lequel vous pourrez placer divers fichiers. Essayez d'ajouter un fichier nomm\u00e9 <tt>index.html</tt> et commentez l'effet obtenu en acc\u00e9dant \u00e0 l'adresse http://localhost:8080/perso/"
            ]
        },
        {
            "cell_type": "markdown",
            "metadata": {},
            "source": [
                "### 4. R\u00e9ponses \u00e0 contenu dynamique, forg\u00e9 \u00e0 la vol\u00e9e (20 mn)"
            ]
        },
        {
            "cell_type": "markdown",
            "metadata": {},
            "source": [
                "#### a) R\u00e9ponse dynamique"
            ]
        },
        {
            "cell_type": "markdown",
            "metadata": {},
            "source": [
                "Pour envoyer un document g\u00e9n\u00e9r\u00e9 \u00e0 la vol\u00e9e, il faut penser \u00e0 :\n",
                "- envoyer la ligne de statut HTTP,\n",
                "- envoyer les lignes d'ent\u00eate,\n",
                "- envoyer la cha\u00eene de caract\u00e8res qui constitue le corps de la r\u00e9ponse, en l'ayant pr\u00e9alablement encod\u00e9e.\n",
                "\n",
                "<div style=\"background-color:#eef;padding:10px;border-radius:3px\">\n",
                "<b>4.1 -</b>\n",
                "Sur la base du serveur pr\u00e9c\u00e9dent, commencez \u00e0 d\u00e9velopper un serveur nomm\u00e9 TD2-s3.py muni de la m\u00e9thode suivante, qui impl\u00e9mente les \u00e9tapes d\u00e9crites ci-dessus. "
            ]
        },
        {
            "cell_type": "raw",
            "metadata": {},
            "source": [
                "  def send(self,body,headers=[]):\n",
                "\n",
                "    # on encode la chaine de caract\u00e8res \u00e0 envoyer\n",
                "    encoded = bytes(body, 'UTF-8')\n",
                "\n",
                "    # on envoie la ligne de statut\n",
                "    self.send_response(200)\n",
                "\n",
                "    # on envoie les lignes d'ent\u00eate et la ligne vide\n",
                "    [self.send_header(*t) for t in headers]\n",
                "    self.send_header('Content-Length',int(len(encoded)))\n",
                "    self.end_headers()\n",
                "\n",
                "    # on envoie le corps de la r\u00e9ponse\n",
                "    self.wfile.write(encoded)"
            ]
        },
        {
            "cell_type": "markdown",
            "metadata": {},
            "source": [
                "<div style=\"background-color:#eef;padding:10px;border-radius:3px\">\n",
                "<b>4.2 -</b>\n",
                "Compl\u00e9tez maintenant TD2-s3.py pour qu'il renvoie un document avec la date et l'heure de votre machine lorsqu'il re\u00e7oit une requ\u00eate <tt>GET</tt> avec le chemin d'acc\u00e8s <tt>/time</tt>, et testez-le via le <a href=\"http://localhost:8080/service_tester.html\">testeur de service</a> ou directement \u00e0 l'adresse http://localhost:8080/time.\n",
                "<br>\n",
                "<img src=\"TD2-time.png\" width=\"300\" style=\"border: 1px solid #888;box-shadow:5px 5px 5px #ccc; border-radius:3px\"><div style=\"text-align:center; font-size:80%\">Exemple de r\u00e9ponse de la part du serveur TD2-s3</div>\n",
                "\n",
                "<b>N.B.</b> L'heure du serveur peut \u00eatre obtenue par un appel \u00e0 la m\u00e9thode <tt>self.date_time_string()</tt>.\n",
                "\n",
                "<div style=\"margin-top:0.5em\">Il sera par ailleurs certainement utile de vous r\u00e9f\u00e9rer au cours qui propose le code source d'un serveur qui renvoie un document dynamique.</div>"
            ]
        },
        {
            "cell_type": "code",
            "execution_count": 5,
            "metadata": {
                "collapsed": true
            },
            "outputs": [],
            "source": [
                "%pycat TD2-s3.py"
            ]
        },
        {
            "cell_type": "markdown",
            "metadata": {},
            "source": [
                "#### b) Routage\n",
                "\n",
                "<b>N.B.</b> Le fait de renvoyer une r\u00e9ponse dynamique pour les chemins d'acc\u00e8s qui commencent par <tt>/time</tt> et \u00e9ventuellement un document statique (s'il existe) dans le cas contraire, impose de tester l'adresse employ\u00e9e par le client, et d'aiguiller le comportement du serveur en fonction de sa forme. On appelle ce processus d'aiguillage <b>le routage</b> (encore tr\u00e8s simple dans le cas pr\u00e9sent).\n",
                "\n",
                "La partie du code effectuant le routage (i.e. <b>le routeur</b>) s'\u00e9toffera au fur et \u00e0 mesure que l'on rajoutera des fonctonnalit\u00e9s au serveur."
            ]
        },
        {
            "cell_type": "markdown",
            "metadata": {},
            "source": [
                "### 5. Architecture trois tiers : avec base de donn\u00e9es (35mn)"
            ]
        },
        {
            "cell_type": "markdown",
            "metadata": {},
            "source": [
                "L'objectif est maintenant de s'appuyer sur le travail pr\u00e9c\u00e9demment r\u00e9alis\u00e9 pour cr\u00e9er une application autour de votre base de donn\u00e9es, que vous avez r\u00e9cup\u00e9r\u00e9e lors du TD1. Pour cela, r\u00e9cup\u00e9rez le r\u00e9pertoire propre \u00e0 votre projet et copiez-le dans le r\u00e9pertoire courant."
            ]
        },
        {
            "cell_type": "markdown",
            "metadata": {},
            "source": [
                "#### a) Liste des points d'int\u00e9r\u00eats propres \u00e0 votre projet (15mn)"
            ]
        },
        {
            "cell_type": "markdown",
            "metadata": {},
            "source": [
                "<div style=\"background-color:#eef;padding:10px;border-radius:3px\">\n",
                "<b>5.1 -</b>\n",
                "En vous basant sur les comp\u00e9tences acquises lors du TD n\u00b01 \u00e9crivez un serveur <tt>TD2-s4.py</tt> qui, sur r\u00e9ception d'une requ\u00eate <tt>GET</tt> appropri\u00e9e en fonction de votre projet :\n",
                "<ul>\n",
                "<li>\u00e9mette une requ\u00eate SQL sur la table principale de votre base de donn\u00e9es pour obtenir la liste des points d'int\u00e9r\u00eat\n",
                "<li>et renvoie une page au format <tt>text/plain</tt> contenant cette liste.\n",
                "</ul>\n",
                "<br>\n",
                "Tester votre code en affichant la page obtenue (en fonction de votre projet) :\n",
                "<ul>\n",
                "    <li><tt>GET /volcans</tt>   : http://localhost:8080/volcans</li>\n",
                "    <li><tt>GET /sites&nbsp;&nbsp;</tt>   : http://localhost:8080/sites</li>\n",
                "    <li><tt>GET /tours&nbsp;&nbsp;</tt>   : http://localhost:8080/tours</li>\n",
                "    <li><tt>GET /ponts&nbsp;&nbsp;</tt>   : http://localhost:8080/ponts</li>\n",
                "    <li><tt>GET /lieux&nbsp;&nbsp;</tt>   : http://localhost:8080/lieux</li>\n",
                "\n",
                "</ul>\n",
                "<img src=\"TD2-liste_volcans.png\" width=\"250\" style=\"border: 1px solid #888;box-shadow:5px 5px 5px #ccc; border-radius:3px\">\n",
                "<div style=\"text-align:center; font-size:80%;\">Exemple de r\u00e9sultat esp\u00e9r\u00e9 pour le serveur TD2-s4</div>"
            ]
        },
        {
            "cell_type": "code",
            "execution_count": 6,
            "metadata": {
                "collapsed": true
            },
            "outputs": [],
            "source": [
                "%pycat TD2-s4.py"
            ]
        },
        {
            "cell_type": "markdown",
            "metadata": {},
            "source": [
                "#### b) Passage de param\u00e8tres via le chemin d'acc\u00e8s (15mn)"
            ]
        },
        {
            "cell_type": "markdown",
            "metadata": {},
            "source": [
                "On souhaiterait maintenant r\u00e9cup\u00e9rer l'ensemble des informations concernant un point d'int\u00e9r\u00eat donn\u00e9. Pour cela on peut passer en param\u00e8tre de la requ\u00eate le nom du point d'int\u00e9r\u00eat en l'ajoutant \u00e0 la suite de l'URL (au singulier) comme par exemple : \n",
                "- <tt>GET /volcan/Acamarachi</tt>\n",
                "- <tt>GET /site/Abbaye+de+Fontenay</tt>\n",
                "- <tt>GET /tour/Burj+Khalifa</tt>\n",
                "- <tt>GET /pont/Pont+Jacques-Cartier</tt>\n",
                "- <tt>GET /lieu/Ch\u00e2teau+de+Lichtenberg</tt>"
            ]
        },
        {
            "cell_type": "markdown",
            "metadata": {},
            "source": [
                "<div style=\"background-color:#eef;padding:10px;border-radius:3px\">\n",
                "<b>5.2 -</b>\n",
                "Ecrivez un serveur <tt>TD2-s5.py</tt> qui permette de telles requ\u00eates param\u00e9tr\u00e9es et retourne les informations du point d'int\u00e9r\u00eat comme pr\u00e9c\u00e9demment au format texte.\n",
                "\n",
                "Tester votre code en affichant une page propre \u00e0 votre projet :\n",
                "<ul>\n",
                "<li>http://localhost:8080/volcan/Acamarachi</li>\n",
                "<li>http://localhost:8080/site/Abbaye+de+Fontenay</li>\n",
                "<li>http://localhost:8080/tour/Burj+Khalifa</li>\n",
                "<li>http://localhost:8080/pont/Pont+Jacques-Cartier</li>\n",
                "<li>http://localhost:8080/lieu/Ch\u00e2teau+de+Lichtenberg</li>\n",
                "</ul>\n",
                "\n",
                "<img src=\"TD2-volcan_Acamarachi_txt.png\" style=\"border: 1px solid #888;max-width:700px;box-shadow:5px 5px 5px #ccc; border-radius:3px\">\n",
                "<div style=\"text-align:center; font-size:80%\">Exemple de r\u00e9sultat attendu pour le serveur TD2-s5</div>"
            ]
        },
        {
            "cell_type": "code",
            "execution_count": 7,
            "metadata": {
                "collapsed": true
            },
            "outputs": [],
            "source": [
                "%pycat TD2-s5.py"
            ]
        },
        {
            "cell_type": "markdown",
            "metadata": {},
            "source": [
                "#### c)  Traitement des erreurs (5mn)\n",
                "\n",
                "Lorsqu'on demande au serveur une ressource qui n'existe pas comme http://localhost:8080/localite/Lyon, cette requ\u00eate finit par \u00eatre trait\u00e9e par la m\u00e9thode <tt>send_static()</tt> qui renvoie un statut <tt>404</tt>.\n",
                "\n",
                "Pour autant, lorsque le chemin commence par un mot reconnu, mais qu''il y a une erreur dans le nom demand\u00e9 comme dans: http://localhost:8080/pont/Avignon, la requ\u00eate SQL vers la base de donn\u00e9es renvoie <b>None</b> et le serveur risque fort de rencontrer une exception.\n",
                "\n",
                "Il faut \u00e9videmment pr\u00e9voir ce genre de cas, \u00e9viter une erreur d'ex\u00e9cution du code du serveur, et renvoyer une page d'erreur :\n",
                "<br>\n",
                "<img src=\"TD2-volcan_404.png\" width=\"400\" style=\"border:1px solid #888; box-shadow:5px 5px 5px #ccc; border-radius:3px\">\n",
                "<div style=\"text-align:center; font-size:80%\">Exemple d'erreur attendue de la part du serveur TD2-s7</div>"
            ]
        },
        {
            "cell_type": "markdown",
            "metadata": {},
            "source": [
                "<div style=\"background-color:#eef;padding:10px;border-radius:3px\">\n",
                "<b>5.3 -</b> Apr\u00e8s avoir consult\u00e9 la documentation de la m\u00e9thode <a href=\"https://docs.python.org/3/library/http.server.html#http.server.BaseHTTPRequestHandler.send_error\">send_error()</a>, pr\u00e9voyez ce genre d'erreur avec un serveur version <code>TD2-s6.py</code> et testez votre code avec l'adresse pr\u00e9c\u00e9dente."
            ]
        },
        {
            "cell_type": "code",
            "execution_count": 8,
            "metadata": {
                "collapsed": true
            },
            "outputs": [],
            "source": [
                "%pycat TD2-s6.py"
            ]
        },
        {
            "cell_type": "markdown",
            "metadata": {},
            "source": [
                "### 6. Mise en forme des r\u00e9ponses du serveur (15mn et plus si affinit\u00e9s)"
            ]
        },
        {
            "cell_type": "markdown",
            "metadata": {},
            "source": [
                "#### a) R\u00e9ponse au format json (15mn)\n",
                "\n",
                "<div style=\"background-color:#eef;padding:10px;border-radius:3px\">\n",
                "<b>6.1 -</b> D\u00e9veloppez maintenant un serveur nomm\u00e9 <code>TD2-s7.py</code> qui renvoie la liste des points d'int\u00e9r\u00eat avec leur nom, latitude et longitude, au format json au lieu du format texte, lorsqu'il re\u00e7oit une requ\u00eate comme celles trait\u00e9e en question 5.1 :\n",
                "</div>\n",
                "<ul>\n",
                "    <li>http://localhost:8080/volcans</li>\n",
                "    <li>http://localhost:8080/sites</li>\n",
                "    <li>http://localhost:8080/tours</li>\n",
                "    <li>http://localhost:8080/ponts</li>\n",
                "    <li>http://localhost:8080/lieux</li>\n",
                "</ul>"
            ]
        },
        {
            "cell_type": "code",
            "execution_count": 9,
            "metadata": {
                "collapsed": true
            },
            "outputs": [],
            "source": [
                "%pycat TD2-s7.py"
            ]
        },
        {
            "cell_type": "markdown",
            "metadata": {},
            "source": [
                "<b>N.B.</b> Ce serveur sera r\u00e9utilis\u00e9 et d\u00e9velopp\u00e9 dans la suite de votre travail pour l'avancement de votre projet. Il permet au client d'obtenir la liste des points d'int\u00e9r\u00eat via une requ\u00eate AJAX afin de les placer sur une carte."
            ]
        },
        {
            "cell_type": "markdown",
            "metadata": {},
            "source": [
                "#### b)  G\u00e9n\u00e9ration de code HTML"
            ]
        },
        {
            "cell_type": "markdown",
            "metadata": {},
            "source": [
                "<div style=\"background-color:#eef;padding:10px;border-radius:3px\">\n",
                "<b>6.1 -</b> Am\u00e9liorez le code du serveur pr\u00e9c\u00e9dent pour obtenir le serveur <tt>TD2-s8.py</tt> afin qu'il ne retourne plus les caract\u00e9ristiques d'un site au format texte, mais au format HTML, suite \u00e0 une requ\u00eate comme celles de la question 5.2. \n",
                "\n",
                "Tester votre code en affichant une page comme :\n",
                "<ul>\n",
                "<li>http://localhost:8080/volcan/Acamarachi</li>\n",
                "<li>http://localhost:8080/site/Abbaye+de+Fontenay</li>\n",
                "<li>http://localhost:8080/tour/Burj+Khalifa</li>\n",
                "<li>http://localhost:8080/pont/Pont+Jacques-Cartier</li>\n",
                "<li>http://localhost:8080/lieu/Ch\u00e2teau+de+Lichtenberg</li>\n",
                "</ul>\n",
                "\n",
                "<img src=\"TD2-lieu_Lichtenberg_html.png\" width=\"600\" style=\"border: 1px solid #888; box-shadow:5px 5px 5px #ccc; border-radius:3px\">\n",
                "<div style=\"text-align:center; font-size:80%\">Exemple de r\u00e9sultat d\u00e9livr\u00e9 par le serveur TD2-s8</div>"
            ]
        },
        {
            "cell_type": "code",
            "execution_count": 10,
            "metadata": {
                "collapsed": true
            },
            "outputs": [],
            "source": [
                "%pycat TD2-s8.py"
            ]
        },
        {
            "cell_type": "markdown",
            "metadata": {},
            "source": [
                "#### b) Mise en forme de la r\u00e9ponse avec CSS - (ad libitum)\n",
                "\n",
                "La r\u00e9ponse peut ais\u00e9ment \u00eatre mise en forme si le code HTML renvoy\u00e9 fait r\u00e9f\u00e9rence \u00e0 une feuille de style externe que l'on peut d\u00e9velopper.\n",
                "\n",
                "<div style=\"background-color:#eef;padding:10px;border-radius:3px\">\n",
                "<b>6.2 -</b> Dans quel r\u00e9pertoire doit-on mettre le fichier CSS ?\n",
                "</div>\n",
                "\n",
                "<i>Attention \u00e0 ne pas perdre trop de temps sur la question suivante, \u00e0 faire pour la beaut\u00e9 du geste, qui peut donner un r\u00e9sultat satisfaisant, mais \u00eatre tr\u00e8s chronophage...</i>\n",
                "\n",
                "<p style=\"background-color:#eef;padding:10px;border-radius:3px\">\n",
                "<b>6.3 -</b> D\u00e9veloppez <code>TD2-s9.py</code> et <code>TD2-s9.css</code> en pla\u00e7ant ce dernier dans le r\u00e9pertoire ad\u00e9quat. Peaufinez le code HTML pour obtenir un r\u00e9sultat probant.\n",
                "</p>\n",
                "\n",
                "<img src=\"TD2-pont_css.png\"><div style=\"text-align:center\">Exemple de r\u00e9sultat d\u00e9livr\u00e9 par le serveur TD2-s9, avec feuille de style</div>"
            ]
        },
        {
            "cell_type": "code",
            "execution_count": 11,
            "metadata": {
                "collapsed": true
            },
            "outputs": [],
            "source": []
        }
    ],
    "metadata": {
        "kernelspec": {
            "display_name": "Python 3",
            "language": "python",
            "name": "python3"
        },
        "language_info": {
            "codemirror_mode": {
                "name": "ipython",
                "version": 3
            },
            "file_extension": ".py",
            "mimetype": "text/x-python",
            "name": "python",
            "nbconvert_exporter": "python",
            "pygments_lexer": "ipython3",
            "version": "3.6.6"
        }
    },
    "nbformat": 4,
    "nbformat_minor": 1
}