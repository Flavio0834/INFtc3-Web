{
    "cells": [
        {
            "cell_type": "markdown",
            "metadata": {},
            "source": [
                "#    <center>Informatique tc3 (Projet Web) - TD3</center>"
            ]
        },
        {
            "cell_type": "markdown",
            "metadata": {},
            "source": [
                "## <center style=\"color: #66d\">D\u00e9veloppement d'interfaces Web</center>"
            ]
        },
        {
            "cell_type": "markdown",
            "metadata": {},
            "source": [
                "### 1. Pr\u00e9ambule"
            ]
        },
        {
            "cell_type": "markdown",
            "metadata": {},
            "source": [
                "#### a) Modalit\u00e9s pratiques"
            ]
        },
        {
            "cell_type": "markdown",
            "metadata": {},
            "source": [
                "Il est possible d'inclure du code HTML dans un notebook ipython. Essayez : c'est simple, il suffit d'\u00e9crire des balises dans une zone de texte <i>(Markdown)</i>. Si vous manquez <span style=\"color:red\">d'inspiration</span>, v\u00e9rifiez simplement comment <em>CE TEXTE</em> a \u00e9t\u00e9 mis en italiques, ou <strong>CELUI-CI</strong> en gras, en regardant simplement le code source de la cellule."
            ]
        },
        {
            "cell_type": "markdown",
            "metadata": {},
            "source": [
                "Le d\u00e9veloppement d'interfaces pour une application Web dans un notebook n'est toutefois pas possible car&#160;:\n",
                "- la mise en page du notebook va interf\u00e9rer avec la pr\u00e9sentation graphique de votre interface,\n",
                "- l'interactivit\u00e9 de votre interface va interf\u00e9rer avec celle du notebook,\n",
                "- la soumission d'un formulaire va vous faire quitter le notebook,\n",
                "- vous ne pourrez pas facilement ex\u00e9cuter du code javascript dans votre notebook,\n",
                "- il existe des r\u00e8gles de s\u00e9curit\u00e9 qui emp\u00eachent un navigateur d'\u00e9mettre des requ\u00eates AJAX vers un serveur <i>(celui que vous aurez d\u00e9velopp\u00e9)</i> autre que celui dont est issu la page qui envoie la requ\u00eate <em>(le serveur de notebook)."
            ]
        },
        {
            "cell_type": "markdown",
            "metadata": {},
            "source": [
                "Pour toutes ces raisons, il va falloir :\n",
                "\n",
                "1) vous munir de votre \u00e9diteur de texte favori <sup>*</sup>,\n",
                "\n",
                "2) cr\u00e9er vos fichiers <tt>.html</tt> et <tt>.css</tt> dans __le r\u00e9pertoire <tt>/client</tt>__ de votre serveur.\n",
                "\n",
                "3) acc\u00e9der aux fichiers html <b>via votre serveur</b>.<br>\n",
                "AJAX ne fonctionnera pas si vous ouvrez vos pages html en faisant un double-clic sur le fichier <i>(cf. url en file:// dans la barre d'adresse du navigateur)</i>."
            ]
        },
        {
            "cell_type": "markdown",
            "metadata": {},
            "source": [
                "#### b) Choix d'un \u00e9diteur de texte"
            ]
        },
        {
            "cell_type": "markdown",
            "metadata": {},
            "source": [
                "N'importe quel \u00e9diteur de texte fait l'affaire. Attention, ni Word, ni WordPad ne sont des \u00e9diteurs de texte : ce sont des programmes de <em>traitement de texte</em>. Voici quelques suggestions si vous n'avez pas d\u00e9j\u00e0 votre favori :"
            ]
        },
        {
            "cell_type": "markdown",
            "metadata": {},
            "source": [
                "<div style=\"display:flex\">\n",
                "<img title=\"Notepad++\" src=\"logo_notepadpp.png\" style=\"display:inline;width:100px;margin-left:50px\">\n",
                "<img title=\"Vim - Vi for Windows\"src=\"logo_vim.svg\" style=\"display:inline;width:100px;margin-left:50px\">\n",
                "<img title=\"Emacs\" src=\"logo_emacs.svg\" style=\"display:inline;width:100px;margin-left:50px\">\n",
                "<img title=\"Sublime Text\" src=\"logo_sublimetext.png\" style=\"display:inline;width:100px;margin-left:50px\">\n",
                "</div>\n",
                "<p><b>N.B.</b> Le bloc notes de Windows est bien un \u00e9diteur de texte, mais tellement primitif qu'il est d\u00e9conseill\u00e9 de l'utiliser...</p>"
            ]
        },
        {
            "cell_type": "markdown",
            "metadata": {},
            "source": [
                "Si tout cela vous laisse perplexe, t\u00e9l\u00e9chargez et installez <a href=\"https://www.sublimetext.com/\">Sublime Text</a>, il convient tr\u00e8s bien et il en existe une version pour toutes les platerformes. Cependant si vous \u00eates sous Windows et pr\u00e9f\u00e9rez les logiciels libres, alors utilisez plut\u00f4t <a href=\"https://notepad-plus-plus.org/\"> Notepad++</a>"
            ]
        },
        {
            "cell_type": "markdown",
            "metadata": {},
            "source": [
                "### 2. D\u00e9veloppement d'une premi\u00e8re interface simple (30mn)"
            ]
        },
        {
            "cell_type": "markdown",
            "metadata": {},
            "source": [
                "<div style=\"background-color:#eef;padding:10px;border-radius:3px\">\n",
                "<b>2.1 -</b>\n",
                "D\u00e9veloppez un document HTML appel\u00e9 <a href=\"http://localhost:8080/TD3-s1.html\"><tt>TD3-s1.html</tt></a> dans le r\u00e9pertoire <tt>client</tt> de ce TD. Cette page comprendra un formulaire qui demande le nom et le pr\u00e9nom de l'utilisateur. Lors de la soumission du formulaire on d\u00e9sire que le navigateur appelle le serveur dont est issu le document avec la m\u00e9thode <tt>POST</tt>, le chemin d'acc\u00e8s <tt>/toctoc</tt> et les variables <tt>Nom</tt> et <tt>Prenom</tt> dans la cha\u00eene de requ\u00eate envoy\u00e9e avec le corps.\n",
                "</div>\n",
                "<img src=\"TD3-s1.png\" style=\"border:1px solid #666; border-radius:5px; box-shadow: 5px 5px 5px #444\">\n",
                "<div style=\"text-align:center; font-size:80%; margin-top:0.5em\">Exemple d'interface pour le premier formulaire</div>"
            ]
        },
        {
            "cell_type": "markdown",
            "metadata": {},
            "source": [
                "<div style=\"background-color:#eef;padding:10px;border-radius:3px\">\n",
                "<b>2.2 -</b>\n",
                "Une fois cette page d\u00e9velopp\u00e9e, d\u00e9marrez le serveur <tt>TD3-serveur1.py</tt> fourni avec ce TD et v\u00e9rifiez que le serveur vous renvoie bien le r\u00e9sultat attendu en remplissant le formulaire sur : http://localhost:8080/TD3-s1.html\n",
                "\n",
                "<img src=\"TD3-s1-reponse.png\">\n",
                "<div style=\"text-align:center; font-size:80%\">Exemple de r\u00e9ponse attendue</div>"
            ]
        },
        {
            "cell_type": "markdown",
            "metadata": {},
            "source": [
                "<b>Rappels :</b> Comme lors du TD pr\u00e9c\u00e9dent, le serveur `TD3-serveur1.py` doit \u00eatre d\u00e9marr\u00e9 manuellement via Spyder et nous vous conseillons de le lancer dans une console d\u00e9di\u00e9e en allant dans le menu \"Ex\u00e9cution&nbsp;|&nbsp;Configurer...\" et en choisissant l'option \"Ex\u00e9cuter dans une nouvelle console Python d\u00e9di\u00e9e\"."
            ]
        },
        {
            "cell_type": "markdown",
            "metadata": {},
            "source": [
                "<div style=\"background-color:#eef;padding:10px;border-radius:3px\">\n",
                "<b>2.3 -</b> Modifier votre document HTML pour obtenir la version <a href=\"http://localhost:8080/TD3-s2.html\"><tt>TD3-s2.html</tt></a> qui r\u00e9alise la soumission du formulaire avec la m\u00e9thode <tt>GET</tt> au lieu de <tt>POST</tt>. Quelles sont les diff\u00e9rences ?"
            ]
        },
        {
            "cell_type": "markdown",
            "metadata": {},
            "source": [
                "<div style=\"background-color:#eef;padding:10px;border-radius:3px\">\n",
                "<b>2.4 -</b> Une fois votre formulaire fonctionnel, vous pouvez am\u00e9liorer sa pr\u00e9sentation en vous aidant du cours sur CSS.\n",
                "&mdash; Attention toutefois \u00e0 ne pas perdre de temps \u00e0 vouloir trop fignoler la pr\u00e9sentation. Vous pourrez faire ce travail lors des s\u00e9ances d'autonomie d\u00e9di\u00e9es \u00e0 votre projet.\n",
                "</div>\n",
                "\n",
                "<img src=\"TD3-s2.png\">\n",
                "<div style=\"text-align:center; font-size:80%\">Exemple de pr\u00e9sentation</div>"
            ]
        },
        {
            "cell_type": "markdown",
            "metadata": {},
            "source": [
                "### 3. Am\u00e9liorations : passage \u00e0 une requ\u00eate AJAX (30mn)"
            ]
        },
        {
            "cell_type": "markdown",
            "metadata": {},
            "source": [
                "Lorsque la r\u00e9ponse revient, il est dommage qu'elle soit affich\u00e9e dans une fen\u00eatre diff\u00e9rente, et dans une pr\u00e9sentation tr\u00e8s diff\u00e9rente de celle de la page appelante, car le contenu et la pr\u00e9sentation du document renvoy\u00e9 sont directement d\u00e9termin\u00e9s par le code source du serveur.\n",
                "\n",
                "Nous allons maintenant modifier le serveur pour qu'il renvoie les donn\u00e9es brutes _non formatt\u00e9es en HTML_.  Pour cela il faudra que la page html envoie une requ\u00eate AJAX _(plut\u00f4t que de soumettre un formulaire)_ et exploite les donn\u00e9es en les ins\u00e9rant dans la page."
            ]
        },
        {
            "cell_type": "markdown",
            "metadata": {},
            "source": [
                "<div style=\"background-color:#eef;padding:10px;border-radius:3px\">\n",
                "<b>3.1 -</b> Modifiez le serveur en le renommant <tt>TD3-s3.py</tt> pour qu'il renvoie de l'information format\u00e9e en JSON, plut\u00f4t que du texte HTML (pour les m\u00e9thodes <tt>GET</tt> et <tt>POST</tt>).\n",
                "\n",
                "Pour la requ\u00eate <a href=\"http://localhost:8080/toctoc?Prenom=Eva&Nom=Drouy\"><tt>http://localhost:8080/toctoc?Prenom=Eva&Nom=Drouy</tt></a> on s'attend par exemple \u00e0 la r\u00e9ponse :\n",
                "\n",
                "<pre>\n",
                "{\n",
                "  \"given_name\": \"Eva\",\n",
                "  \"family_name\": \"Drouy\"\n",
                "}\n",
                "</pre>"
            ]
        },
        {
            "cell_type": "code",
            "execution_count": 1,
            "metadata": {
                "collapsed": false
            },
            "outputs": [],
            "source": [
                "%pycat TD3-s3.py"
            ]
        },
        {
            "cell_type": "markdown",
            "metadata": {},
            "source": [
                "<div style=\"background-color:#eef;padding:10px;border-radius:3px\">\n",
                "    \n",
                "<b>3.2 -</b> Modifiez maintenant votre interface en l'appelant <a href=\"http://localhost:8080/TD3-s4.html\"><tt>TD3-s4.html</tt></a> pour supprimer le \"formulaire\", envoyer une requ\u00eate AJAX, et exploiter les donn\u00e9es r\u00e9cup\u00e9r\u00e9es. Pour cela :\n",
                "- supprimez les balises <tt>form</tt> <i>(ouvrante et fermante)</i>,\n",
                "- ajouter <tt>id=\"prenom\"</tt> et <tt>id=\"nom\"</tt> dans les champs  <tt>&lt;input&gt;</tt> correspondants\n",
                "- ajoutez dans la page, un paragraphe ou un \u00e9l\u00e9ment <tt>&lt;div&gt;</tt> avec un attribut <tt>id=\"reponse\"</tt>,\n",
                "- remplacez la balise <tt>&lt;input type=\"submit\"&gt;</tt> par un \u00e9l\u00e9ment <tt>&lt;button&gt;</tt> avec un attribut <tt>id=\"bouton\"</tt>,\n",
                "- puis d\u00e9clarez un gestionnaire d'\u00e9v\u00e9nement pour un clic sur le bouton avec le code Javascript suivant :"
            ]
        },
        {
            "cell_type": "raw",
            "metadata": {},
            "source": [
                "<script>\n",
                "document.getElementById('bouton').addEventListener('click', envoiformulaire);\n",
                " \n",
                "function envoiformulaire(e) {\n",
                "    var xhr = new XMLHttpRequest();\n",
                "\n",
                "    // on r\u00e9cup\u00e8re le nom et le pr\u00e9nom\n",
                "    var pr = document.getElementById('prenom').value,\n",
                "        no = document.getElementById('nom').value ;\n",
                "\n",
                "    // cette fonction sera appel\u00e9e lorsque la r\u00e9ponse du serveur sera disponible\n",
                "    xhr.onload = function() {\n",
                "\n",
                "      // r\u00e9cup\u00e9ration de l'information renvoy\u00e9e par le serveur\n",
                "      var data = JSON.parse(this.responseText);\n",
                "\n",
                "      // affichage dans la zone 'reponse', du pr\u00e9nom et du nom r\u00e9cup\u00e9r\u00e9 par l'appel au serveur\n",
                "      document.getElementById('reponse').innerHTML = 'Bonjour ' + data.given_name + ' ' + data.family_name;\n",
                "    };\n",
                "\n",
                "    // d\u00e9tails de la requ\u00eate envoy\u00e9e au serveur\n",
                "    xhr.open('GET','/toctoc/'+pr+'/'+no,true);\n",
                "\n",
                "    // envoi de la requ\u00eate\n",
                "    xhr.send();\n",
                "}\n",
                "</script>"
            ]
        },
        {
            "cell_type": "markdown",
            "metadata": {},
            "source": [
                "<b>N.B.</b> Le code Javascript fourni n'utilise pas la cha\u00eene de requ\u00eate pour passer les valeurs entr\u00e9es par l'utilisateur au serveur. Au lieu de cela, il forme requ\u00eate avec une URL <i>Restful</i> de la forme <tt>/toctoc/&lt;prenom>/&lt;nom></tt>."
            ]
        },
        {
            "cell_type": "markdown",
            "metadata": {},
            "source": [
                "<div style=\"background-color:#eef;padding:10px;border-radius:3px\">\n",
                "<b>3.3 -</b> Modifiez le serveur en le renommant <tt>TD3-s4.py</tt> pour qu'il renvoie l'information en utilisant les param\u00e8tres pass\u00e9s dans l'URL sous la forme<br> <tt>/toctoc/&lt;prenom>/&lt;nom></tt> et testez-le avec votre interface.\n",
                "</div>"
            ]
        },
        {
            "cell_type": "markdown",
            "metadata": {},
            "source": [
                "Vous pouvez esp\u00e9rer un r\u00e9sultat de ce type :\n",
                "\n",
                "<img src=\"TD3-s4.png\" >\n",
                "<div style=\"text-align:center; font-size:80%\">Exemple apr\u00e8s affichage de la r\u00e9ponse par TD3-s4.html</div>"
            ]
        },
        {
            "cell_type": "code",
            "execution_count": 2,
            "metadata": {
                "collapsed": true
            },
            "outputs": [],
            "source": [
                "%pycat TD3-s4.py"
            ]
        },
        {
            "cell_type": "markdown",
            "metadata": {
                "collapsed": true
            },
            "source": [
                "### 4. Exploitation de la base de donn\u00e9es (30mn)"
            ]
        },
        {
            "cell_type": "markdown",
            "metadata": {},
            "source": [
                "Le dernier serveur du TD pr\u00e9c\u00e9dent, nomm\u00e9 TD2-s7.py renvoie la liste des points d'int\u00e9r\u00eats au format json avec leur nom, latitude et longitude. Il s'agit maintenant d'exploiter ces informations pour cr\u00e9er dynamiquement une interface avec une liste de choix."
            ]
        },
        {
            "cell_type": "markdown",
            "metadata": {},
            "source": [
                "<div style=\"background-color:#eef;padding:10px;border-radius:3px\">\n",
                "<b>4.1 -</b> R\u00e9cup\u00e9rez la base de donn\u00e9es de votre projet depuis le r\u00e9pertoire du TD pr\u00e9c\u00e9dent. Le serveur <tt>TD2-s7.py</tt> qui renvoie la liste des points d'int\u00e9r\u00eats au format json est fourni avec ce TD. Faites-en une copie nomm\u00e9e <tt>TD3-s5.py</tt>.\n",
                "<p>\n",
                "Cr\u00e9ez ensuite un document html nomm\u00e9 <a href=\"http://localhost:8080/TD3-s5.html\"><tt>TD3-s5.html</tt></a> qui effectue une requ\u00eate vers le serveur en utilisant le code javascript ci-dessous.\n",
                "<p>\n",
                "Ce code r\u00e9cup\u00e8re la liste des points d'int\u00e9r\u00eat pour les afficher sous la forme d'options dans une liste de choix (balise <tt>select</tt>).\n",
                "</p>\n",
                "</div>"
            ]
        },
        {
            "cell_type": "raw",
            "metadata": {},
            "source": [
                "<select id=\"poi\" name=\"poi\" required>\n",
                " <option value=\"\" selected disabled hidden>Choisir...</option>\n",
                "</select>\n",
                " \n",
                "<script>\n",
                "// Modifier cette ligne en fonction de votre projet\n",
                "var entity_list_name = 'volcans'\n",
                "\n",
                "var xhr = new XMLHttpRequest();\n",
                " \n",
                "// cette fonction sera appel\u00e9e lorsque la r\u00e9ponse du serveur sera disponible\n",
                "xhr.onload = function() {\n",
                "    \n",
                "  // r\u00e9cup\u00e9ration de l'information renvoy\u00e9e par le serveur\n",
                "  var data = JSON.parse(this.responseText);\n",
                "      \n",
                "  // cr\u00e9ation des options de la liste\n",
                "  for ( n=0; n < data.length; n++ ) {\n",
                "    d = data[n];\n",
                "    option = '<option>' + d.name + '</option>\\n';\n",
                "    document.getElementById('poi').innerHTML += option;\n",
                "  }\n",
                "\n",
                "};\n",
                "\n",
                "// d\u00e9tails de la requ\u00eate envoy\u00e9e au serveur\n",
                "xhr.open('GET','/' + entity_list_name,true);\n",
                "    \n",
                "// envoi de la requ\u00eate\n",
                "xhr.send();\n",
                "</script>"
            ]
        },
        {
            "cell_type": "markdown",
            "metadata": {},
            "source": [
                "<div style=\"display:flex\">\n",
                "  <img src=\"TD3-s5.png\">\n",
                "  <img src=\"TD3-s5-selected.png\">\n",
                "</div>\n",
                "<div style=\"text-align:center; font-size:80%\">Exemple de r\u00e9sultat avec une liste de s\u00e9lection</div>"
            ]
        },
        {
            "cell_type": "markdown",
            "metadata": {},
            "source": [
                "<div style=\"background-color:#eef;padding:10px;border-radius:3px\">\n",
                "<b>4.2 -</b> En l'\u00e9tat actuel des choses, le serveur <tt>TD3-s5.py</tt> est capable de renvoyer les informations relatives \u00e0 un point d'int\u00e9r\u00eat au format HTML.\n",
                "<p>Cr\u00e9ez une nouvelle version de serveur nomm\u00e9e <tt>TD3-s6.py</tt> qui renvoie cette fois-ci les informations au format JSON.\n",
                "<p>\n",
                "Pour faciliter la suite, la structure de la r\u00e9ponse devra \u00eatre la suivante :\n",
                "<pre>{\n",
                "  \"dbpedia\":  \"<span>http:</span><span>//dbpedia.org</span>/resource/...\",\n",
                "  \"wiki\":     \"<span>http:</span><span>//en.wikipedia.org</span>/wiki/...\",\n",
                "  \"abstract\": \"...\",\n",
                "  \"photo\":    \"<span>http:</span><span>//en.wikipedia.org</span>/...\",\n",
                "  \"other\": {\n",
                "    \"lat\":    25.1971,\n",
                "    \"lon\":    55.2741,\n",
                "    \"height\": 829.8,\n",
                "    \"date\":   \"01 octobre 2009\",\n",
                "    \"year\":   2009\n",
                "  }\n",
                "}\n",
                "</pre>\n",
                "<p>\n",
                "A noter que la donn\u00e9e <tt>dbpedia</tt> doit correspondre \u00e0 la premi\u00e8re colonne de votre table. Les champs sp\u00e9cifiques \u00e0 votre projet (plus <tt>lat</tt> et <tt>lon</tt>) sont rang\u00e9s dans un dictionnaire d\u00e9di\u00e9 nomm\u00e9 <tt>other</tt>.\n",
                "</div>\n"
            ]
        },
        {
            "cell_type": "code",
            "execution_count": 3,
            "metadata": {
                "collapsed": true
            },
            "outputs": [],
            "source": [
                "%pycat TD3-s6.py"
            ]
        },
        {
            "cell_type": "markdown",
            "metadata": {
                "collapsed": true
            },
            "source": [
                "<div style=\"background-color:#eef;padding:10px;border-radius:3px\">\n",
                "<b>4.3 -</b> Cr\u00e9ez un document <tt>TD3-s6.html</tt> sur la base du document <tt>TD3-s5.html</tt> pr\u00e9c\u00e9dent.\n",
                "\n",
                "<p>\n",
                "Ajoutez une balise &lt;div id=\"reponse\">&lt;/div>\n",
                "<p>Ajoutez \u00e9galement le code javascript ci-dessous dans la balise &lt;script>.\n",
                "</div>"
            ]
        },
        {
            "cell_type": "raw",
            "metadata": {},
            "source": [
                "var entity_name = entity_list_name.substring(0,entity_list_name.length-1);\n",
                "\n",
                "// Gestionnaire d'\u00e9v\u00e9nement pour le choix dans la liste\n",
                "document.getElementById('poi').addEventListener('change',option_selected);\n",
                "\n",
                "function option_selected(e) {\n",
                "  var xhr = new XMLHttpRequest();\n",
                "  xhr.onload = function() {\n",
                "    var data = JSON.parse(this.responseText);\n",
                "\n",
                "    // Exploitation de la r\u00e9ponse\n",
                "    var html = '<img src=\"' + data.photo + '\">';\n",
                "    html += '<h2><a href=\"' + data.wiki + '\">' + e.target.value + '</a></h2>';\n",
                "    html += '<div><a href=\"' + data.dbpedia + '\">' + data.dbpedia + '</a></div>';\n",
                "    html += '<div id=\"other\">';\n",
                "    for( k in data.other ) {\n",
                "      html += '<span><b>' + k + '</b>: ' + data.other[k] + '</span>';\n",
                "    }\n",
                "    html += '</div>'\n",
                "    html += '<p>' + data.abstract + '</p>'\n",
                "\n",
                "    document.getElementById('reponse').innerHTML = html;\n",
                "  };\n",
                "  xhr.open('GET','/' + entity_name + '/' + e.target.value,true);\n",
                "  xhr.send();\n",
                "}"
            ]
        },
        {
            "cell_type": "markdown",
            "metadata": {},
            "source": [
                "<p>Une fois ces op\u00e9rations effectu\u00e9es, l'interface <a href=\"http://localhost:8080/TD3-s6.html\"><tt>TD3-s6.html</tt></a> devrait afficher les informations renvoy\u00e9es par ce nouveau serveur lorsqu'on s\u00e9lectionne un lieu dans la liste.\n",
                "</p>\n",
                "\n",
                "<div style=\"background-color:#eef;padding:10px;border-radius:3px\">\n",
                "Ajoutez le code CSS n\u00e9cessaire pour obtenir un affichage satisfaisant :\n",
                "</div>"
            ]
        },
        {
            "cell_type": "markdown",
            "metadata": {},
            "source": [
                "\n",
                "<img src=\"TD3-s6.png\" >\n",
                "<div style=\"text-align:center; font-size:80%\">Exemple de r\u00e9sultat</div>"
            ]
        },
        {
            "cell_type": "markdown",
            "metadata": {},
            "source": [
                "### 5. Carte glissante (30mn)"
            ]
        },
        {
            "cell_type": "markdown",
            "metadata": {},
            "source": [
                "L'objectif est maintenant de remplacer la s\u00e9lection du point d'int\u00e9r\u00eat dans notre formulaire, par un clic sur une carte glissante affichant l'ensemble des points d'int\u00e9r\u00eats disponibles."
            ]
        },
        {
            "cell_type": "markdown",
            "metadata": {},
            "source": [
                "#### a) Affichage d\u2019une carte glissante"
            ]
        },
        {
            "cell_type": "markdown",
            "metadata": {},
            "source": [
                "Pour r\u00e9aliser l\u2019affichage d\u2019une carte g\u00e9ographique glissante (slippy map) on utilise la biblioth\u00e8que javascript Leaflet (http://leafletjs.com/). Cette biblioth\u00e8que permet l\u2019affichage d\u2019un fond de carte utilisant des serveurs de dalles (tiles server) disponible sur Internet (on utilisera OpenStreetMap) ainsi que l\u2019affichage de marqueurs et d\u2019autres \u00e9l\u00e9ments graphiques en superposition. Tous ces \u00e9l\u00e9ments graphiques peuvent \u00eatre rendus interactifs gr\u00e2ce \u00e0 l\u2019utilisation de javascript.\n"
            ]
        },
        {
            "cell_type": "markdown",
            "metadata": {},
            "source": [
                "Un exemple simple de carte glissante vous est fourni. Cet exemple intitul\u00e9 _\u00ab Mes lieux insolites \u00e0 la Croix-Rousse \u00bb_ montre une carte glissante de ce quartier de Lyon sur laquelle 3 points d\u2019int\u00e9r\u00eats (<i>POI=Point of Interest</i>) sont positionn\u00e9s. En cliquant sur l\u2019un d\u2019entre eux, une fen\u00eatre popup s\u2019affiche pr\u00e9cisant le nom de ce lieu et, en-dessous de la carte, une description de ce lieu est donn\u00e9e."
            ]
        },
        {
            "cell_type": "markdown",
            "metadata": {},
            "source": [
                "<div style=\"background-color:#eef;padding:10px;border-radius:3px\">\n",
                "    \n",
                "<b>5.1 - </b>Lancez le serveur <tt>TD3-lieux-insolites.py</tt> et ouvrez la page <a href=\"http://localhost:8080/TD3-lieux-insolites.html\"><tt>TD3-lieux-insolites.html</tt></a> :\n",
                "</div>\n",
                "\n",
                "<img src=\"TD3-lieux-insolites.png\" style=\"border-radius: 7px; border: 1px solid black;box-shadow: 5px 5px 5px black\">\n",
                "\n",
                "<div style=\"text-align:center; font-size:80%; margin-top:0.5em\">TD3-lieux-insolites.html en action</div>"
            ]
        },
        {
            "cell_type": "markdown",
            "metadata": {},
            "source": [
                "<div style=\"background-color:#efe;padding:10px;border-radius:10px\">\n",
                "    \n",
                "<b>Parenth\u00e8se culturelle</b> (\u00e0 l'attention de celles et ceux qui ne connaitraient de Lyon que le trajet du C6-C6E-3-55 pour aller prendre leur TGV le vendredi soir) : \n",
                "\n",
                "La Croix-Rousse est un quartier situ\u00e9 au nord de Lyon r\u00e9put\u00e9 pour son glorieux pass\u00e9 li\u00e9 au tissage de la soie (La Fabrique, la r\u00e9volte des Canuts, les premiers syndicats ouvriers, la naissance du mouvement mutualiste, etc.) et surtout pour la pr\u00e9sence de la fanfare Piston le dimanche matin sur le march\u00e9 du boulevard\u2026"
            ]
        },
        {
            "cell_type": "markdown",
            "metadata": {},
            "source": [
                "Techniquement, exactement comme lors de la question pr\u00e9c\u00e9dente, au moment du chargement de la page une premi\u00e8re requ\u00eate AJAX est faite pour r\u00e9cup\u00e9rer la liste des POI depuis le serveur, sauf qu'ils sont affich\u00e9s sur la carte glissante \u00e0 l\u2019aide d\u2019une fonction javascript de la biblioth\u00e8que _Leaflet_ au lieu d'\u00eatre ajout\u00e9s \u00e0 une liste de s\u00e9lection.\n",
                "\n",
                "A chaque clic sur un POI (comme pr\u00e9c\u00e9demment lors d'une s\u00e9lection dans la liste), une autre requ\u00eate AJAX est d\u00e9clench\u00e9e pour r\u00e9cup\u00e9rer la description associ\u00e9e au POI et l\u2019afficher dans la zone pr\u00e9vue sous la carte."
            ]
        },
        {
            "cell_type": "markdown",
            "metadata": {},
            "source": [
                "#### b) Int\u00e9gration d'une carte \u00e0 votre application"
            ]
        },
        {
            "cell_type": "markdown",
            "metadata": {},
            "source": [
                "<div style=\"background-color:#eef;padding:10px;border-radius:3px\">\n",
                "    \n",
                "<b>5.2 -</b> D\u00e9veloppez une nouvelle interface <a href=\"http://localhost:8080/TD3-s7.html\"><tt>TD3-s7.html</tt></a> qui reprend le travail de la section 4 en int\u00e9grant une carte glissante du monde. Cette carte affichera les POI correspondant \u00e0 votre projet. En cliquant sur un marqueur, les informations relatives au POI appara\u00eetront. \n",
                "</div>\n",
                "\n",
                "<img src=\"TD3-s7.png\" style=\"border-radius: 7px; border: 1px solid black;box-shadow: 5px 5px 5px black\">\n",
                "<div style=\"text-align:center; font-size:80%; margin-top:0.5em\">Exemple de pr\u00e9sentation</div>\n"
            ]
        },
        {
            "cell_type": "markdown",
            "metadata": {},
            "source": [
                "<p>Cette op\u00e9ration peut \u00eatre effectu\u00e9e en partant de <tt>TD3-s6.html</tt> et en r\u00e9cup\u00e9rant des fragments de code depuis <tt>TD3-lieux-insolites.html</tt> :\n",
                "</p>\n",
                "<ul>\n",
                "<li>ajoutez les liens vers <tt>leaflet.js</tt> et <tt>leaflet.css</tt>,</li>\n",
                "<li>remplacez le <tt>&lt;select></tt> par un <tt>&lt;div id=\"map\"></tt> pour recevoir la carte,</li>\n",
                "<li>imposez des dimensions \u00e0 la carte via CSS,</li>\n",
                "<li>ajoutez les lignes d'appel \u00e0 leaflet permettant la cr\u00e9ation de la carte, modifiez le niveau de zoom \u00e0 1, et \u00e9ventuellement les coordonn\u00e9es du centre de la carte</li>\n",
                "<li>remplacez le bloc \"cr\u00e9ation des options dans la liste\" par la \"boucle sur les lieux\"</li>\n",
                "<li>dans ce m\u00eame paragraphe, remplacez <tt>.idnum = data[n].id;</tt> par\n",
                "<tt>.idnum = data[n].name;</tt>,</li>\n",
                "<li>supprimez l'enregistrement du \"Gestionnaire d'\u00e9v\u00e9nement pour le choix dans la liste\"</li>\n",
                "<li>renommez la fonction <tt>option_selected</tt> en <tt>OnMarkerClick</tt>,</li>\n",
                "<li>ajoutez la ligne permettant la r\u00e9cup\u00e9ration du nom du lieu dans la variable <tt>site_name</tt> via la propri\u00e9t\u00e9 personnalis\u00e9e du marqueur, et juste en-dessous mettez \u00e0 jour le lien pour la r\u00e9cup\u00e9ration des infos d'un point d'int\u00e9r\u00eat,\n",
                "<li>un peu plus haut, mettez \u00e0 jour le contenu de la balise <tt>&lt;h2></tt> g\u00e9n\u00e9r\u00e9e, avec la variable <tt>site_name</tt>,\n",
                "<li>peaufinez le CSS.</li>\n",
                "</ul>"
            ]
        },
        {
            "cell_type": "code",
            "execution_count": 4,
            "metadata": {
                "collapsed": true
            },
            "outputs": [],
            "source": []
        }
    ],
    "metadata": {
        "kernelspec": {
            "display_name": "Python 3",
            "language": "python",
            "name": "python3"
        },
        "language_info": {
            "codemirror_mode": {
                "name": "ipython",
                "version": 3
            },
            "file_extension": ".py",
            "mimetype": "text/x-python",
            "name": "python",
            "nbconvert_exporter": "python",
            "pygments_lexer": "ipython3",
            "version": "3.6.6"
        }
    },
    "nbformat": 4,
    "nbformat_minor": 2
}