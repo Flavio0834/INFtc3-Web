{
    "cells": [
        {
            "cell_type": "markdown",
            "metadata": {},
            "source": [
                "## <center style=\"color: #66d\">Gestion du projet avec gitlab / R\u00e9cup\u00e9ration des donn\u00e9es du projet</center>"
            ]
        },
        {
            "cell_type": "markdown",
            "metadata": {},
            "source": [
                "Dans le cadre de ce TD :\n",
                "* Vous utiliserez le serveur _gitlab_ de l'Ecole Centrale pour cr\u00e9er un environnement de d\u00e9veloppement collaboratif pour votre projet.\n",
                "* Vous r\u00e9cup\u00e9rerez une base SQLite avec les donn\u00e9es de votre projet, prendrez possession du code ayant permis l'obtention de ces donn\u00e9es, et envisagerez \u00e9ventuellement de les compl\u00e9ter avec d'autres informations."
            ]
        },
        {
            "cell_type": "markdown",
            "metadata": {},
            "source": [
                "### 1. Gestion du projet avec gitlab (45 min.)"
            ]
        },
        {
            "cell_type": "markdown",
            "metadata": {},
            "source": [
                "Vous avez constitu\u00e9 avant ce TD un groupe de projet avec 4 ou 5 camarades. Si ce n'est pas le cas, d\u00e9p\u00e9chez-vous d'aller vous inscrire sur : \"http://pedagogie1.ec-lyon.fr/\" section \"Inscription aux sous-groupes de projet\"\n",
                "\n",
                "Pour bien g\u00e9rer le d\u00e9veloppement collaboratif de votre projet vous devrez utiliser le <a href=\"https://pedagogie1.ec-lyon.fr/course/view.php?id=1749\">serveur gitlab de l'Ecole Centrale</a>. L'usage de gitlab par __tous__ les membres du groupe fera partie des crit\u00e8res d'\u00e9valuation pour la participation de chacun \u00e0 l'ensemble du projet."
            ]
        },
        {
            "cell_type": "markdown",
            "metadata": {},
            "source": [
                "__1.1. Prise en main de gitlab et de GitHub Desktop : (15mn)__\n",
                "\n",
                "Si vous ne l'avez pas d\u00e9j\u00e0 fait dans le cours INF tc2...\n",
                "<div style=\"background-color:#eef;padding:10px;border-radius:3px\">\n",
                "Suivez le <a href=\"https://gitlab.ec-lyon.fr/sderrode/INF-TC2/-/blob/master/tuto-git-gitlab/tuto-git-gitlab.md\"> tutoriel de prise en main de gitlab et de l'outil GitHub Desktop</a> "
            ]
        },
        {
            "cell_type": "markdown",
            "metadata": {},
            "source": [
                "A la suite de ce tutoriel vous devez disposer :\n",
                "* d'un compte personnel op\u00e9rationnel sur le serveur gitlab de l'Ecole : \"https://gitlab.ec-lyon.fr\"\n",
                "* du logiciel GitHub Desktop install\u00e9 sur votre machine"
            ]
        },
        {
            "cell_type": "markdown",
            "metadata": {},
            "source": [
                "__1.2. Cr\u00e9ation de votre environnement de projet : (15mn)__\n",
                "\n",
                "Dans votre groupe un des membres (appelons-le <i>chef de projet</i>) va cr\u00e9er le d\u00e9p\u00f4t de travail sur son espace personnel dans \"https://gitlab.ec-lyon.fr\" et le partager avec les autres membres du groupe.\n",
                "\n",
                "<div style=\"background-color:#eef;padding:10px;border-radius:3px\">\n",
                "Le <i>chef de projet</i> :<ul>\n",
                "<li>Cr\u00e9e un nouveau projet dans son espace personnel sur \"gitlab.ec-lyon.fr\". L'acc\u00e8s \u00e0 ce projet devra \u00eatre r\u00e9gl\u00e9 sur \"<b>private</b>\".\n",
                "           <li>En cr\u00e9ant ce projet, il cr\u00e9e un fichier README.MD contenant le titre du sujet et son nom sur une 2\u00e8me ligne. \n",
                "    <li>Dans l'onglet \"membres\" il invite les autres membres du groupe <b>ainsi que le charg\u00e9 de TD</b> en leur donnant le statut \"<b>developer</b>\"\n",
                "\n",
                "</ul>\n",
                "    </div>\n",
                "    <br>\n",
                "    <div style=\"background-color:#eef;padding:10px;border-radius:3px\">\n",
                "    <p><i>Tous les membres</i> :<ul> \n",
                "    <li>V\u00e9rifient qu'ils ont bien les droits suffisants sur cet espace\n",
                "    <li>Avec <i>Github Desktop</i> (ou les commandes <i>git</i> pour ceux qui maitrisent), clonent ce dossier sur leur ordinateur personnel.\n",
                "    </ul>\n",
                "     </div>\n"
            ]
        },
        {
            "cell_type": "markdown",
            "metadata": {},
            "source": [
                "<b>N.B.</b> Le charg\u00e9 de TD et les autres membres developer sont automatiquement pr\u00e9venus par mail lors de leur inscription par le _chef de projet_."
            ]
        },
        {
            "cell_type": "markdown",
            "metadata": {},
            "source": [
                "__1.3 Worflow de travail collaboratif : (15mn)__\n",
                "\n",
                "Il faut d'abord r\u00e9partir les r\u00f4les au sein de votre groupe et savoir \"qui fait quoi\". Le consigner par \u00e9crit, par exemple dans une page de wiki du d\u00e9p\u00f4t, est probablement une bonne id\u00e9e.\n",
                "\n",
                "Ensuite chaque membre du groupe travaille sur une copie locale sur sa machine. Lorsqu'il estime avoir atteint un niveau suffisament stable de son code, il fait un _commit_ puis un _push_ pour publier ses modifications sur le d\u00e9p\u00f4t gitlab. Les autres peuvent alors faire un _pull_ pour r\u00e9cup\u00e9rer la mise \u00e0 jour.\n",
                "\n",
                "L'approche la plus simple consiste \u00e0 autoriser les \"developer\" a _pusher_ directement dans la branche _master_. \n",
                "\n",
                "<div style=\"background-color:#eef;padding:10px;border-radius:3px\">\n",
                "Pour cela, le <i>chef de projet</i> doit \u00e9diter les permissions sur cette branche :<ul>\n",
                "<li> dans l'interface de gitlab, ouvrir le menu \"Settings | Repository\"\n",
                "<li> dans la section \"Protected branches\", dans le tableau cliquer sur le bouton \"Unprotect\" pour la branche <i>master</i>\n",
                "    </ul>\n",
                "</div>"
            ]
        },
        {
            "cell_type": "markdown",
            "metadata": {},
            "source": [
                "Sinon (fonctionnement par d\u00e9faut), avec le statut \"developer\", les membres doivent cr\u00e9er une nouvelle branche \u00e0 chaque _push_ et doivent demander un _merge request_ pour que le _chef de projet_ (qui a le statut \"maintainer\") fasse la fusion avec la branche \"master\". S'il y a des conflits \u00e0 la fusion, le _chef de projet_ doit les r\u00e9gler pour finaliser le _merge_\n",
                "\n",
                "Alternativement le _chef de projet_ peut donner le statut \"maintainer\" \u00e0 tous les membres du groupe (ce qui donne tous les droits \u00e0 tout le monde) mais \u00e0 ses riques et p\u00e9rils :-)"
            ]
        },
        {
            "cell_type": "markdown",
            "metadata": {},
            "source": [
                "<div style=\"background-color:#eef;padding:10px;border-radius:3px\">\n",
                "    Pour tester le workflow, faites l'exercice suivant.\n",
                "Pour chaque membre :<ul>\n",
                "    <li>Faire un <i>pull</i> du d\u00e9p\u00f4t avec <i>Github Desktop</i> (normalement d\u00e9j\u00e0 fait par le <i>clone</i> \u00e0 la section 1.2) \n",
                "    <li>Editer en local le fichier README.MD avec un \u00e9diteur de texte pour rajouter son nom sur une nouvelle ligne \u00e0 la fin du fichier\n",
                "    <li>Faire un <i>commit</i> de ses changements avec <i>Github Desktop</i>\n",
                "    <li>Faire un <i>push</i> de ses modifications sur le d\u00e9p\u00f4t du projet. Si d'autres membres ont fait un <i>push</i> avant vous, vous serez oblig\u00e9 de refaire un <i>pull</i> de ces modifications pour vous resynchroniser avec le d\u00e9p\u00f4t. Dans ce cas vous devrez d'abord r\u00e9soudre les \u00e9ventuels <i>merge conflicts</i> avec l'\u00e9diteur de <i>Github Desktop</i> avant de pouvoir retenter votre <i>push</i>...\n",
                "</ul>\n",
                "    </div>"
            ]
        },
        {
            "cell_type": "markdown",
            "metadata": {},
            "source": [
                "<div>Apr\u00e8s cet exercice vous savez :\n",
                "<ul>\n",
                "<li>R\u00e9cup\u00e9rer la version \u00e0 jour du projet depuis le d\u00e9p\u00f4t gitlab centralis\u00e9,</li>\n",
                "<li>Effectuer des modifications, et tester le code sur votre machine,</li>\n",
                "<li><em>Committer</em> vos modifications sur le d\u00e9p\u00f4t local sur votre machine,</li>\n",
                "<li><em>Pusher</em> votre d\u00e9p\u00f4t local, en r\u00e9glant les \u00e9ventuels <em>merge conflicts</em>, vers le d\u00e9p\u00f4t gitlab centralis\u00e9 pour le mettre \u00e0 jour et rendre vos modifications accessibles aux membres de votre groupe.</li>\n",
                "</ul>\n",
                "</div>"
            ]
        },
        {
            "cell_type": "markdown",
            "metadata": {},
            "source": [
                "### 2. Prise en main de la base SQLite avec les donn\u00e9es de votre projet (1h 15 min.)"
            ]
        },
        {
            "cell_type": "markdown",
            "metadata": {},
            "source": [
                "Une base de donn\u00e9es au format SQLite _(fichier .sqlite)_ est fournie pour chacun des projets. Comme vu en INF-tc2, toutes les op\u00e9rations sur une base de donn\u00e9es de ce type peuvent \u00eatre effectu\u00e9es depuis Python via le module _sqlite3_.\n",
                "\n",
                "<p>Liste des bases de donn\u00e9es :</p>\n",
                "<ul>\n",
                "<li><code>volcans/volcans.db  -</code> Projet A : Volcans remarquables</li>\n",
                "<li><code>sites/sites.db      -</code>  Projet B : Sites class\u00e9s de l'Unesco</li>\n",
                "<li><code>tours/tours.db      -</code> Projet C : Tours les plus hautes</li>\n",
                "<li><code>ponts/ponts.db      -</code> Projet D : Ponts autour du monde</li>\n",
                "<li><code>lieux/lieux.db      -</code> Projet E : Lieux historiques</li>\n",
                "</ul>\n"
            ]
        },
        {
            "cell_type": "markdown",
            "metadata": {},
            "source": [
                "__2.1. Prise en main de votre base de donn\u00e9es : (15mn)__\n",
                "<p>\n",
                "Pour analyser le contenu de la base, pour tester les requ\u00eates SQL avant de les impl\u00e9menter en Python, et pour v\u00e9rifier le bon fonctionnement de votre application en inspectant les r\u00e9sultats dans la base, l'outil \"DB Browser for SQLite\" sera bien utile.\n",
                "</p>\n",
                "<div style=\"background-color:#eef;padding:10px;border-radius:3px\">\n",
                "Si vous ne l'avez pas d\u00e9j\u00e0 install\u00e9 dans le cadre des TDs INF tc2, t\u00e9l\u00e9charger et installer <a href=\"http://sqlitebrowser.org/\">DB Browser for SQLite</a> en suivant les instructions d'installation en fonction de votre syst\u00e8me d'exploitation.\n",
                "<p>\n",
                "D\u00e9marrer DB Browser for SQLite et inspecter le contenu de la base fournie.\n",
                "</p>\n",
                "</div>"
            ]
        },
        {
            "cell_type": "markdown",
            "metadata": {},
            "source": [
                "__2.2. Quelques requ\u00eates SQL : (30mn)__\n",
                "\n",
                "<div style=\"background-color:#eef;padding:10px;border-radius:3px\">\n",
                "En vous r\u00e9f\u00e9rant au travail effectu\u00e9 en INF tc2, effectuer via Python des requ\u00eates simples sur les bases fournies (chaque groupe travaille sur la base correspondant \u00e0 <u>son</u> projet), et afficher les r\u00e9sultats dans le notebook.\n",
                "<p style=\"margin-top: 0.5em\">\n",
                "Exemples :\n",
                "<ul>\n",
                "<li>nombre d'enregistrements dans votre base,\n",
                "<li>coordonn\u00e9es g\u00e9ographiques d'un point d'int\u00e9r\u00eat donn\u00e9,\n",
                "<li>en fonction du projet : \n",
                "<ul>\n",
                "<li>liste des volcans dont la derni\u00e8re \u00e9ruption s'est faite il y a moins d'un si\u00e8cle,\n",
                "<li>des ponts qui font plus de 10 km de long,\n",
                "<li>des tours qui font plus de 250 m de hauteur,\n",
                "<li>des sites class\u00e9s de l'h\u00e9misph\u00e8re Sud,\n",
                "<li>ou des lieux historiques du 20\u00e8me si\u00e8cle.\n",
                "</ul>\n",
                "</ul>\n",
                "</div>"
            ]
        },
        {
            "cell_type": "code",
            "execution_count": 1,
            "metadata": {
                "collapsed": false,
                "scrolled": true,
                "util.bundle": "correcteur"
            },
            "outputs": [],
            "source": [
                "# votre code ici"
            ]
        },
        {
            "cell_type": "code",
            "execution_count": 2,
            "metadata": {
                "collapsed": false,
                "util.bundle": "correcteur"
            },
            "outputs": [],
            "source": [
                "# votre code ici"
            ]
        },
        {
            "cell_type": "code",
            "execution_count": 3,
            "metadata": {
                "collapsed": false,
                "util.bundle": "correcteur"
            },
            "outputs": [],
            "source": [
                "# votre code ici"
            ]
        },
        {
            "cell_type": "code",
            "execution_count": 4,
            "metadata": {
                "collapsed": false,
                "util.bundle": "correcteur"
            },
            "outputs": [],
            "source": [
                "# votre code ici"
            ]
        },
        {
            "cell_type": "code",
            "execution_count": 5,
            "metadata": {
                "collapsed": false,
                "util.bundle": "correcteur"
            },
            "outputs": [],
            "source": [
                "# votre code ici"
            ]
        },
        {
            "cell_type": "markdown",
            "metadata": {},
            "source": [
                "__2.3 Origine et m\u00e9thode d'obtention des donn\u00e9es : (30mn)__\n",
                "\n",
                "<p>Le notebook ayant permis d'obtenir ces donn\u00e9es vous est fourni. Il contient des explications sur la source des donn\u00e9es, la m\u00e9thode d'obtention, et l'ensemble des cellules de code qui permettent de r\u00e9cup\u00e9rer les donn\u00e9es, de les filtrer, de les nettoyer, de cr\u00e9er et d'alimenter la base.</p>\n",
                "\n",
                "<p>Liste des notebooks :</p>\n",
                "<ul>\n",
                "<li>Projet A - <a href=\"volcans/Volcans remarquables.ipynb\">Volcans remarquables</a></li>\n",
                "<li>Projet B - <a href=\"sites/Sites class\u00e9s de l'Unesco.ipynb\">Sites class\u00e9s de l'Unesco</a></li>\n",
                "<li>Projet C - <a href=\"tours/Tours les plus hautes.ipynb\">Tours les plus hautes</a></li>\n",
                "<li>Projet D - <a href=\"ponts/Ponts autour du monde.ipynb\">Ponts autour du monde</a></li>\n",
                "<li>Projet E - <a href=\"lieux/Lieux historiques.ipynb\">Lieux historiques</a></li>\n",
                "</ul>\n",
                "\n",
                "\n"
            ]
        },
        {
            "cell_type": "markdown",
            "metadata": {},
            "source": [
                "<div style=\"background-color:#eef;padding:10px;border-radius:3px\">\n",
                "Consulter le notebook relatif \u00e0 votre projet.\n",
                "</div>"
            ]
        },
        {
            "cell_type": "markdown",
            "metadata": {},
            "source": [
                "### 3. Compl\u00e9ment, modification, correction du jeu de donn\u00e9es\n",
                "\n",
                "\n",
                "<p>Cela n'est pas n\u00e9cessaire dans l'imm\u00e9diat, mais si vous d\u00e9sirez compl\u00e9ter et/ou modifier vos donn\u00e9es dans le cadre de votre projet, il est possible de le faire en modifiant et en compl\u00e9tant le code pr\u00e9sent dans le notebook fourni.</p> "
            ]
        },
        {
            "cell_type": "code",
            "execution_count": 6,
            "metadata": {
                "collapsed": true
            },
            "outputs": [],
            "source": []
        }
    ],
    "metadata": {
        "kernelspec": {
            "display_name": "Python 3",
            "language": "python",
            "name": "python3"
        },
        "language_info": {
            "codemirror_mode": {
                "name": "ipython",
                "version": 3
            },
            "file_extension": ".py",
            "mimetype": "text/x-python",
            "name": "python",
            "nbconvert_exporter": "python",
            "pygments_lexer": "ipython3",
            "version": "3.6.6"
        }
    },
    "nbformat": 4,
    "nbformat_minor": 2
}