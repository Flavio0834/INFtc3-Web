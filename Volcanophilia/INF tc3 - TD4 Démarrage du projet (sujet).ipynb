{
    "cells": [
        {
            "cell_type": "markdown",
            "metadata": {},
            "source": [
                "#    <center>Informatique tc3 (Projet Web) - TD4</center>"
            ]
        },
        {
            "cell_type": "markdown",
            "metadata": {},
            "source": [
                "## <center style=\"color: #66d\">D\u00e9marrage du projet</center>"
            ]
        },
        {
            "cell_type": "markdown",
            "metadata": {},
            "source": [
                "### 1. Pr\u00e9ambule\n",
                "\n",
                "Cette section r\u00e9capitule le travail cens\u00e9 avoir \u00e9t\u00e9 effectu\u00e9 lors des s\u00e9ances de TD. Si certaines \u00e9tapes n'ont pas \u00e9t\u00e9 faites, il est vital de les compl\u00e9ter maintenant ou tr\u00e8s rapidement au d\u00e9but des s\u00e9ances d'autonomie."
            ]
        },
        {
            "cell_type": "markdown",
            "metadata": {},
            "source": [
                "Avant la s\u00e9ance de TD n\u00b01 vous avez constitu\u00e9 votre groupe et choisi votre sujet parmi :\n",
                "<ul>\n",
                "<li>Projet A : Volcans remarquables</li>\n",
                "<li>Projet B : Sites class\u00e9s de l'Unesco</li>\n",
                "<li>Projet C : Tours les plus hautes</li>\n",
                "<li>Projet D : Ponts autour du monde</li>\n",
                "<li>Projet E : Lieux historiques</li>\n",
                "</ul>"
            ]
        },
        {
            "cell_type": "markdown",
            "metadata": {},
            "source": [
                "Lors de la s\u00e9ance n\u00b01 vous avez cr\u00e9\u00e9 un d\u00e9p\u00f4t pour votre projet sur le serveur gitlab de l'Ecole, et d\u00e9sign\u00e9 un chef de projet qui g\u00e8re ce d\u00e9p\u00f4t. Les r\u00f4les de chacun ont \u00e9t\u00e9 configur\u00e9s de mani\u00e8re \u00e0 vous autoriser \u00e0 pousser vos d\u00e9veloppements sur le d\u00e9p\u00f4t. Vous avez \u00e9galement donn\u00e9 les droits n\u00e9cessaires \u00e0 votre charg\u00e9 de TD pour qu'il puisse \u00e0 minima r\u00e9cup\u00e9rer vos travaux pour les \u00e9valuer, voire pour exceptionnellement pousser lui-m\u00eame du code pour r\u00e9pondre \u00e0 une demande d'aide que vous lui auriez transmise (correction de bug par exemple)."
            ]
        },
        {
            "cell_type": "markdown",
            "metadata": {},
            "source": [
                "Lors de cette m\u00eame s\u00e9ance vous avez r\u00e9cup\u00e9r\u00e9 une version de base des donn\u00e9es pour votre projet, ainsi que le notebook ayant permis de les obtenir."
            ]
        },
        {
            "cell_type": "markdown",
            "metadata": {},
            "source": [
                "Lors de la s\u00e9ance n\u00b02 vous avez d\u00e9velopp\u00e9 un serveur, compl\u00e9t\u00e9 en d\u00e9but de s\u00e9ance 3, capable de r\u00e9pondre \u00e0 deux types de requ\u00eates, pour obtenir d'une part la liste des points d'int\u00e9r\u00eats, et d'autre part les donn\u00e9es relatives \u00e0 l'un des points. Ce serveur d\u00e9livre les informations au format json."
            ]
        },
        {
            "cell_type": "markdown",
            "metadata": {},
            "source": [
                "La s\u00e9ance n\u00b03 vous a amen\u00e9 \u00e0 d\u00e9velopper une interface munie d'une carte glissante affichant les points d'int\u00e9r\u00eat de votre projet. Un clic sur l'un des points d'int\u00e9r\u00eat permet d'afficher les donn\u00e9es correspondantes."
            ]
        },
        {
            "cell_type": "markdown",
            "metadata": {},
            "source": [
                "### 2. Proc\u00e9dure"
            ]
        },
        {
            "cell_type": "markdown",
            "metadata": {},
            "source": [
                "#### 2.1 - Calendrier\n",
                "\n",
                "A l'issue de ce TD vous aurez 10h (5 s\u00e9ances de 2h) d'autonomie planifi\u00e9e pour r\u00e9aliser votre projet. Une derni\u00e8re s\u00e9ance de 2h vous permettra ensuite d\u2019effectuer la recette d\u2019un autre groupe (Cf. ci-dessous) et de peaufiner votre pr\u00e9sentation juste avant la s\u00e9ance de restitution de 2h."
            ]
        },
        {
            "cell_type": "markdown",
            "metadata": {},
            "source": [
                "#### 2.2 Travail collaboratif avec gitlab\n",
                "\n",
                "La plateforme https://gitlab.ec-lyon.fr/ doit \u00eatre utilis\u00e9e tout au long du d\u00e9veloppement de votre projet, c\u2019est-\u00e0-dire d\u00e8s le TD n\u00b04 jusqu\u2019\u00e0 la s\u00e9ance de restitution, avec des commits r\u00e9guliers\n",
                "par <u>chacun des \u00e9l\u00e8ves du projet</u>. Un seul commit le jour de la restitution par une seule personne sera \u00e9valu\u00e9 (tr\u00e8s) d\u00e9favorablement par votre charg\u00e9 de TD.\n",
                "\n",
                "Tous les fichiers de votre projet devront \u00eatre mis sur le d\u00e9p\u00f4t gitlab :\n",
                "\n",
                "<ul>\n",
                "<li>le code complet de votre application (client, serveur et base de donn\u00e9es, fichiers HTML, CSS, images),</li>\n",
                "<li>le cahier des charges fonctionnel de votre application,</li>\n",
                "<li>une documentation technique permettant l\u2019installation et le lancement de l\u2019application,</li>\n",
                "<li>le diaporama de pr\u00e9sentation (utilis\u00e9 lors de la restitution orale de la derni\u00e8re s\u00e9ance),</li>\n",
                "<li>le diaporama de la recette de l\u2019autre application que vous avez effectu\u00e9e (cf. description infra).</li>\n",
                "</ul>\n",
                "\n",
                "Ces fichiers pourront \u00eatre r\u00e9cup\u00e9r\u00e9s \u00e0 tout moment par votre charg\u00e9 de TD dans leur \u00e9tat courant et, apr\u00e8s la soutenance, constitueront le rendu final."
            ]
        },
        {
            "cell_type": "markdown",
            "metadata": {},
            "source": [
                "#### 2.3 Rendu du travail\n",
                "\n",
                "Votre travail devra \u00eatre termin\u00e9 <u>suffisamment longtemps avant la s\u00e9ance de restitution</u> pour que le groupe de projet qui effectue la recette puisse venir r\u00e9cup\u00e9rer les fichiers et avoir assez de temps pour effectuer la recette de votre application, et <strong>au plus tard au d\u00e9but de la derni\u00e8re s\u00e9ance d'autonomie</strong> pr\u00e9c\u00e9dant la s\u00e9ance de recette.\n",
                "\n",
                "Pour cela, Vous devrez donc <u>pr\u00e9venir par e-mail</u> de la disponibilit\u00e9 de cette version \u00ab finale \u00bb sur gitlab :\n",
                "<ul>\n",
                "<li>Le groupe de projet qui effectue la recette de votre travail (cf. ci-dessous)</li>\n",
                "<li>l\u2019enseignant charg\u00e9 de votre groupe de TD.</li>\n",
                "</ul>\n",
                "\n",
                "Pour que votre projet soit accessible aux \u00e9l\u00e8ves qui effectuent la recette, vous devrez les ajouter comme membres de votre projet avec le statut \u00ab reporter \u00bb.\n",
                "\n",
                "Votre projet \u00e9tant accessible en permanence sur gitlab, il n\u2019y a donc aucun transfert de fichier \u00e0 faire pour le rendu du travail. Il suffit juste de rappeler l\u2019adresse du d\u00e9p\u00f4t de votre projet dans l\u2019e-mail. Le d\u00e9p\u00f4t devra contenir \u00e0 ce moment-l\u00e0 au moins le code complet\n",
                "op\u00e9rationnel, le cahier des charges et la documentation technique (les diaporamas seront d\u00e9pos\u00e9s le jour de la restitution).\n",
                "Dans l\u2019hypoth\u00e8se fort probable o\u00f9 votre programme contiendrait des erreurs bloquantes d\u00e9tect\u00e9es par le groupe qui effectue\n",
                "la recette, vous pouvez faire des corrections mais n\u2019oubliez pas de les commiter, puis de les pousser sur gitlab car seuls les fichiers sur le d\u00e9p\u00f4t gitlab seront \u00e9valu\u00e9s par votre charg\u00e9 de TD !"
            ]
        },
        {
            "cell_type": "markdown",
            "metadata": {},
            "source": [
                "#### 2.4 Recette\n",
                "\n",
                "Chaque groupe doit effectuer la recette d\u2019un autre groupe selon la permutation suivante :\n",
                "\n",
                "<table>\n",
                "<tr><th>Sujet</th><th>Recette effectu\u00e9e par</th></tr>\n",
                "<tr><td>A - Volcans remarquables</td><td>B - Sites class\u00e9s de l'Unesco</td></tr>\n",
                "<tr><td>B - Sites class\u00e9s de l'Unesco</td><td>C - Tours les plus hautes</td></tr>\n",
                "<tr><td>C - Tours les plus hautes</td><td>D - Ponts autour du monde</td></tr>\n",
                "<tr><td>D - Ponts autour du monde</td><td>E - Lieux historiques</td></tr>\n",
                "<tr><td>E - Lieux historiques</td><td>A - Volcans remarquables</td></tr>\n",
                "</table>\n",
                "\n",
                "Pour effectuer la recette:\n",
                "<ul>\n",
                "<li>Installer l'application fournie par l\u2019autre groupe en suivant la documentation technique fournie.</li>\n",
                "<li>Evaluer ses fonctionnalit\u00e9s (tester de mani\u00e8re exhaustive boutons, menus...) et les comparer aux\n",
                "fonctionnalit\u00e9s annonc\u00e9es dans le cahier des charges fonctionnel.</li>\n",
                "<li>Evaluer sa robustesse (essayer de rentrer des informations qui ne correspondent pas \u00e0 ce qui est attendu...) et noter les \u00e9ventuels comportements inattendus.</li>\n",
                "<li>Evaluer l'ergonomie et la qualit\u00e9 graphique.</li>\n",
                "</ul>\n",
                "\n",
                "<strong>Crit\u00e8res d\u2019\u00e9valuation</strong> (crit\u00e8res et bar\u00e8me indicatifs) :\n",
                "<ul>\n",
                "<li>Crit\u00e8res administratifs\n",
                "  <ul>\n",
                "    <li>Pr\u00e9sence de tous les fichiers n\u00e9cessaires (html, css, py, sqlite), CdCF, documentation technique \u2013 1pt</li>\n",
                "    <li>Respect de la date de remise \u2013 1pt</li>\n",
                "  </ul>\n",
                "</li>\n",
                "<li>Crit\u00e8res techniques\n",
                "  <ul>\n",
                "    <li>Facilit\u00e9 d\u2019installation et de mise en service (guide d'installation, \u2026) \u2013 1pt</li>\n",
                "    <li>Robustesse (r\u00e9sistance \u00e0 des entr\u00e9es inattendues, \u00e0 la suppression d'un fichier image, ...) - 1pt</li>\n",
                "    <li>Maintenabilit\u00e9 (code source comment\u00e9, pertinence des noms de variables, \u2026) \u2013 1pt</li>\n",
                "  </ul>\n",
                "</li>\n",
                "<li>Crit\u00e8res fonctionnels\n",
                "  <ul>\n",
                "    <li>Respect du cahier des charges, pr\u00e9sence des fonctionnalit\u00e9s obligatoires \u2013 2 pts</li>\n",
                "    <li>Pr\u00e9sence de fonctionnalit\u00e9s suppl\u00e9mentaires \u2013 1pt</li>\n",
                "    <li>Ergonomie (facilit\u00e9 de navigation, pas de lien, de bouton, ou de menu inactifs, \u2026) \u2013 1 pt</li>\n",
                "    <li>Qualit\u00e9 graphique (couleurs, polices de caract\u00e8res, ic\u00f4nes\u2026) \u2013 1 pt</li>\n",
                "  </ul>\n",
                "</li>\n",
                "</ul>\n",
                "\n",
                "Le bilan de cette recette doit \u00eatre r\u00e9dig\u00e9 sous forme d\u2019un diaporama de pr\u00e9sentation dans lequel vous pourrez mettre des\n",
                "copies d\u2019\u00e9cran de l\u2019application pour montrer \u00e0 titre d\u2019exemple certains des probl\u00e8mes ou dysfonctionnements d\u00e9tect\u00e9s ."
            ]
        },
        {
            "cell_type": "markdown",
            "metadata": {},
            "source": [
                "#### 2.5 Restitution\n",
                "\n",
                "La s\u00e9ance de restitution donne l'occasion \u00e0 chaque groupe de pr\u00e9senter devant ses pairs et l\u2019enseignant de TD l\u2019application <b>qui devra \u00eatre fonctionnelle</b>. Il vous est donc demand\u00e9 de pr\u00e9voir <u>un diaporama de pr\u00e9sentation</u> de votre projet sous\n",
                "forme de quelques diapositives (slides) pr\u00e9sentant le cahier des charges de votre projet puis\n",
                "<u>une d\u00e9monstration de votre application</u>.\n",
                "\n",
                "N\u2019oubliez pas de vous munir des adaptateurs n\u00e9cessaires pour connecter vos ordinateurs aux vid\u00e9oprojecteurs,\n",
                "soit en HDMI, soit en VGA.\n",
                "\n",
                "A la suite de votre pr\u00e9sentation, le groupe qui a effectu\u00e9 la recette de votre application fera\n",
                "<u>la pr\u00e9sentation de cette recette</u>, juste avant d\u2019enchainer par sa propre pr\u00e9sentation de projet."
            ]
        },
        {
            "cell_type": "markdown",
            "metadata": {},
            "source": [
                "#### 2.6 Evaluation du travail effectu\u00e9\n",
                "\n",
                "L\u2019\u00e9valuation du projet tiendra compte des \u00e9l\u00e9ments suivants :\n",
                "<ol>\n",
                "<li>\u00c9valuation des livrables par l\u2019enseignant de TD</li>\n",
                "<li>Bonne utilisation individuelle et collective du serveur gitlab</li>\n",
                "<li>Recette effectu\u00e9e par un autre groupe</li>\n",
                "<li>Note individuelle au sein du groupe</li>\n",
                "</ol>\n",
                "\n",
                "Un calcul indicatif de la note est le suivant :\n",
                "<pre>\n",
                "Note Projet / 20 = Note_livrables / 10\n",
                "+ Note gitlab / 3\n",
                "+ Note_Recette / 5\n",
                "+/- Note_Individuelle / 2\n",
                "</pre>\n",
                "\n",
                "<b>N.B.</b> La note individuelle est d\u00e9livr\u00e9e par l\u2019enseignant (qui est seul juge de sa d\u00e9cision), apr\u00e8s prise en compte de l\u2019auto\u00e9valuation du groupe (r\u00e9partition bonus/malus). Il pourra entre autres s\u2019appuyer sur <b>la contribution individuelle sur gitlab</b>, la participation lors de la soutenance, les indications des membres du groupe...\n",
                "\n",
                "Rappel : La note finale de l\u2019AF INF-tc3 s'obtient en faisant la moyenne de la note de test (QCM) et de la note de projet."
            ]
        },
        {
            "cell_type": "markdown",
            "metadata": {},
            "source": [
                "### 3. Travail \u00e0 effectuer pour compl\u00e9ter l'application"
            ]
        },
        {
            "cell_type": "markdown",
            "metadata": {},
            "source": [
                "#### a) Op\u00e9ration pr\u00e9alable - mise en place des bases du travail en groupe\n",
                "\n",
                "Si ce n'est d\u00e9j\u00e0 fait :\n",
                "\n",
                "<div style=\"background-color:#eef;padding:10px;border-radius:3px; margin-top:1.33em\">\n",
                "<b>3.1 -</b> <b>Mettre \u00e0 jour le projet sur le serveur gitlab</b> avec la base de donn\u00e9es, le serveur, l'interface utilisateur (fichiers html, css, js et images dans le r\u00e9pertoire client) y compris les fichiers n\u00e9cessaires \u00e0 leaflet. Il ne serait pas inad\u00e9quat d'effectuer un commit pour le TD1 (base de donn\u00e9e), le TD2 (serveur), le TD3 (interface). A ce point, la version disponible sur gitlab devrait \u00eatre op\u00e9rationnelle et correspondre \u00e0 la fin du TD3.\n",
                "</div>\n",
                "\n",
                "Suggestions :\n",
                "<ul>\n",
                "<li>Ne perdez pas trop de temps lors de cette \u00e9tape \u00e0 peaufiner la pr\u00e9sentation, ce qui peut \u00eatre tr\u00e8s chronophage...</li>\n",
                "<li><b>Abandonnez la nomenclature utilis\u00e9e lors des TDs</b> : le code du serveur pourra \u00eatre renomm\u00e9 <tt>serveur.py</tt>, le fichier html renomm\u00e9 <tt>index.html</tt>, la feuille de style <tt>style.css</tt>...</li>\n",
                "</ul>\n"
            ]
        },
        {
            "cell_type": "markdown",
            "metadata": {},
            "source": [
                "#### b) Fonctionnalit\u00e9s suppl\u00e9mentaires \u00e0 d\u00e9velopper\n",
                "\n",
                "<u>Cahier des charges fonctionnel</u>\n",
                "\n",
                "Il s'agit de permettre l'ajout de commentaires par des utilisateurs, pour chacun des sites (points d'int\u00e9r\u00eats). On notera la date de d\u00e9p\u00f4t du commentaire, et la date de visite du site par l'utilisateur. Les commentaires devront pouvoir \u00eatre modifi\u00e9s et/ou supprim\u00e9s par leur auteur.\n",
                "\n",
                "<u>&Eacute;tapes du travail</u>\n",
                "\n",
                "<div style=\"background-color:#eef;padding:10px;border-radius:3px;margin-top: 1.33em\">\n",
                "<b>3.2 -</b> <b>Modification de la base de donn\u00e9es.</b> Cr\u00e9ez deux tables:\n",
                "<ul>\n",
                "<li>La premi\u00e8re servira \u00e0 g\u00e9rer la liste d'utilisateurs (pseudo, email, mot de passe). Le pseudo servira d'identifiant unique de l'utilsateur.</li>\n",
                "<li style=\"margin-top:0.5em\">La seconde permettra de conserver les commentaires (identifiant unique du commentaire, pseudo de l'utilisateur, nom du site, date du commentaire, message du commentaire, date de la visite du site par l'utilisateur).\n",
                "<div style=\"margin-top:0.5em\">\n",
                "<b>N.B.</b> Il sera utile pour la suite que ces champs soient respectivement nomm\u00e9s : <tt>pseudo, email, pwd</tt> pour la premi\u00e8re table, et <tt>id,  pseudo, site, timestamp, message,</tt> et <tt>date</tt> pour la seconde.\n",
                "</div>\n",
                "</ul>\n",
                "<p>Cr\u00e9ez au moins un utilisateur.</p>\n",
                "<div>Committez et poussez sur le serveur.</div>\n",
                "</div>"
            ]
        },
        {
            "cell_type": "markdown",
            "metadata": {},
            "source": [
                "<div style=\"background-color:#eef;padding:10px;border-radius:3px\">\n",
                "<b>3.3 -</b> <b>Fonctionnalit\u00e9 serveur : cr\u00e9ation d'un commentaire.</b>\n",
                "\n",
                "<p>Sur r\u00e9ception d'une requ\u00eate <tt>POST /commentaire</tt> le serveur devra :\n",
                "<ul>\n",
                "<li>r\u00e9cup\u00e9rer les informations du corps de la requ\u00eate (penser pour cela \u00e0 compl\u00e9ter la m\u00e9thode <tt>init_params</tt>). On s'attend \u00e0 y trouver le pseudo de l'utilisateur, son mot de passe, le texte du commentaire, le nom du point d'int\u00e9r\u00eat, le message du commentaire et une indication de la date de visite de l'utilisateur, <u>exactement sous la forme</u> :\n",
                "<pre>{\n",
                "  \"pseudo\":   \"rdeubaze\",\n",
                "  \"password\": \"raymond\",\n",
                "  \"site\":     \"Ch\u00e2teau de Lichtenberg\",\n",
                "  \"message\":  \"Endroit int\u00e9ressant avec avec une belle vue sur les Vosges du Nord\",\n",
                "  \"date\":     \"Durant l'\u00e9t\u00e9 2019\"\n",
                "}</pre>\n",
                "</li>\n",
                "<li>v\u00e9rifier si l'utilisateur existe dans la base et que le mot de passe est correct, et renvoyer un message d'erreur avec le statut 401 sinon,</li>\n",
                "<li>v\u00e9rifier s'il manque des informations, et renvoyer un message d'erreur avec le statut 422 si c'est le cas,</li>\n",
                "<li>cr\u00e9er le commentaire si les informations n\u00e9cessaires sont pr\u00e9sentes, l'utilisateur connu, et le mot de passe correct,</li>\n",
                "<li>r\u00e9pondre avec un code 200, et un corps au format json avec les infos du commentaire cr\u00e9\u00e9.</li>\n",
                "</ul>\n",
                "</div>\n",
                "<p>Le bon fonctionnement de cette m\u00e9thode pourra \u00eatre test\u00e9 gr\u00e2ce au <a href=\"http://localhost:8080/service_tester.html\">testeur de service</a>.</p>\n",
                "<div>Effectuez ces modifications, v\u00e9rifiez leur bon fonctionnement, committez, et poussez sur le serveur.</div>\n",
                "\n",
                "<p>\n",
                "Le <tt>timestamp</tt> du commentaire sera calcul\u00e9 par le serveur, et correspond \u00e0 l'instant de d\u00e9p\u00f4t du commentaire. Les unit\u00e9s choisies pourront traditionnellement correspondre au nombre de secondes \u00e9coul\u00e9es depuis le 1er janvier 1970 \u00e0 00:00 - (cf. m\u00e9thode <tt>timestamp</tt> d'une <tt>date</tt> du module <tt>datetime</tt>).\n",
                "</p>"
            ]
        },
        {
            "cell_type": "markdown",
            "metadata": {},
            "source": [
                "<div style=\"background-color:#eef;padding:10px;border-radius:3px\">\n",
                "<b>3.4 -</b> <b>Fonctionnalit\u00e9 serveur : r\u00e9cup\u00e9ration de la liste des commentaires sur un site.</b>\n",
                "\n",
                "<p>Le serveur devra d\u00e9livrer la liste des commentaires associ\u00e9s \u00e0 un point d'int\u00e9r\u00eat, suite \u00e0 une requ\u00eate <tt>GET /commentaires/&lt;nom-du-site&gt;</tt>. La r\u00e9ponse se fera sous la forme d'une liste de dictionnaires au format json, qui devra comporter <u>exactement les \u00e9l\u00e9ments suivants</u> (dont la valeur d\u00e9pend \u00e9videmment du point d'int\u00e9r\u00eat et du commentaire) :\n",
                "<pre>\n",
                "[\n",
                "  {\n",
                "      \"id\":        1,\n",
                "      \"pseudo\":    \"rdeubaze\",\n",
                "      \"site\":      \"Ch\u00e2teau de Lichtenberg\",\n",
                "      \"message\":   \"Endroit int\u00e9ressant avec une belle vue sur les Vosges du Nord\",\n",
                "      \"date\":      \"Durant l'\u00e9t\u00e9 2019\",\n",
                "      \"timestamp\":  1637344813\n",
                "  },\n",
                "  ...\n",
                "]\n",
                "</pre>\n",
                "</div>\n",
                "\n",
                "<p>\n",
                "Pensez encore une fois \u00e0 requ\u00e9rir au <a href=\"http://localhost:8080/service_tester.html\">testeur de service</a> pour v\u00e9rifier le fonctionnement d'une telle  requ\u00eate, puis commitez et poussez sur le serveur.</p>"
            ]
        },
        {
            "cell_type": "markdown",
            "metadata": {},
            "source": [
                "<div style=\"background-color:#eef;padding:10px;border-radius:3px\">\n",
                "<b>3.5 -</b> <b>Fonctionnalit\u00e9 serveur : suppression d'un commentaire.</b>\n",
                "\n",
                "<p>Une requ\u00eate <tt>DELETE /commentaire/&lt;id-du-commentaire&gt;</tt> assortie comme ci-dessous d'un corps au format json avec le pseudo et le mot de passe d'un utilisateur existant provoquera, si l'utilisateur correspond \u00e0 l'auteur du message et que le mot de passe est correct, la suppression du commentaire. La r\u00e9ponse comportera un statut 204 (No Content).\n",
                "<pre>{\n",
                "  \"pseudo\":   \"rdeubaze\",\n",
                "  \"password\": \"raymond\"\n",
                "}</pre>\n",
                "</div>\n",
                "<p>Rappelez-vous : le <a href=\"http://localhost:8080/service_tester.html\">testeur de service</a> est votre ami.\n",
                "<div>Une fois cette fonctionnalit\u00e9 op\u00e9rationnelle, committez et poussez sur le serveur.</div>"
            ]
        },
        {
            "cell_type": "markdown",
            "metadata": {},
            "source": [
                "<div style=\"background-color:#eef;padding:10px;border-radius:3px\">\n",
                "<b>3.6 -</b> <b>Affichage des messages dans l'interface.</b>\n",
                "<ul>\n",
                "<li>Inclure depuis votre page html le fichier javascript <tt>apputils.js</tt> joint \u00e0 ce TD. Ce fichier contient quelques fonctions qui seront utiles pour la suite, dont notamment une fonction <tt>ajax_request</tt> permettant de simplifier les appels AJAX sous la forme&nbsp;:&nbsp;\n",
                "<tt>ajax_request(method,url,body,headers,callback)</tt>.\n",
                "<li  style=\"margin-top:0.5em\">Inclure de la m\u00eame fa\u00e7on le fichier <tt>comments.js</tt> qui contient les fonctions n\u00e9cessaires \u00e0 l'affichage et au traitement des commentaires.</li>\n",
                "<li style=\"margin-top:0.5em\">Ajouter \u00e9galement une r\u00e9f\u00e9rence \u00e0 la feuille de style <tt>comments.css</tt> jointe \u00e0 ce sujet.</li>\n",
                "<li style=\"margin-top:0.5em\">Dans le code javascript, v\u00e9rifier que dans la fonction <tt>OnMarkerClick</tt>, l'identifiant du point d'int\u00e9r\u00eat (nom du site) est bien copi\u00e9 dans la variable globale <tt>site_name</tt>.</li>\n",
                "<li style=\"margin-top:0.5em\">Ajouter \u00e0 votre interface un bouton avec un attribut <tt>id=\"show_comments\"</tt> qui permettra d'afficher les commentaires associ\u00e9s \u00e0 un point d'int\u00e9r\u00eat.</li>\n",
                "<li style=\"margin-top:0.5em\">Ajouter \u00e9galement un <tt>&lt;div&gt;</tt> avec un attribut <tt>id=\"messages\"</tt>.</li>\n",
                "</ul>\n",
                "\n",
                "<p>Une fois ces op\u00e9rations effectu\u00e9es, et dans la mesure o\u00f9 votre serveur r\u00e9pond exactement comme pr\u00e9vu aux requ\u00eates (cf. question 3.4), il vous suffira de d\u00e9clarer de la mani\u00e8re suivante le gestionnaire d'\u00e9v\u00e9nements pour un clic de l'utilisateur sur le bouton <tt>show_comments</tt>&nbsp;:\n",
                "<pre>show_comments.addEventListener('click', display_messages);</pre>\n",
                "<div><b>N.B.</b> La fonction <tt>display_messages</tt> se trouve dans le fichier <tt>comments.js</tt>.\n",
                "</div>\n",
                "\n",
                "Cr\u00e9ez un message dans la base via <em>DB Browser for SQLite</em> ou le <a href=\"http://localhost:8080/service_tester.html\">testeur de service</a> (cf. question 3.3), s\u00e9lectionnez le point d'int\u00e9r\u00eat correspondant sur la carte, puis actionnez le bouton <tt>show_comments</tt>.\n",
                "</div>"
            ]
        },
        {
            "cell_type": "markdown",
            "metadata": {},
            "source": [
                "Si tout se passe bien, vous devriez voir le commentaire appara\u00eetre sur votre interface. Si ce n'est pas le cas, v\u00e9rifiez avec les <em>outils du d\u00e9veloppeur</em> de votre navigateur ce qui se passe (faute de frappe, erreur sur l'\u00e9change avec le serveur... ) et corrigez le probl\u00e8me.\n",
                "\n",
                "Le cas \u00e9ch\u00e9ant, commitez et poussez sur le serveur.\n",
                "\n",
                "<div style=\"background-color:#eef;padding:10px;border-radius:3px; margin-top:0.5em\">Utilisez ces m\u00eames <em>outils du d\u00e9veloppeur</em> pour noter les caract\u00e9ristiques du code html dynamiquement cr\u00e9\u00e9 pour l'affichage des commentaires (balises <tt>article</tt> et leur contenu) et d\u00e9velopper quelques r\u00e8gles CSS pour am\u00e9liorer leur pr\u00e9sentation.\n",
                "</div>\n",
                "\n",
                "<img src=\"comments.png\" style=\"border-radius: 7px; border: 1px solid black;box-shadow: 5px 5px 5px black\" width=\"450\">\n",
                "<div style=\"text-align:center; font-size:80%; margin-top:0.5em\">Exemple de pr\u00e9sentation des commentaires</div>\n",
                "\n",
                "<p>Une fois le r\u00e9sultat satisfaisant, (devinez quoi ?) commitez et poussez sur le serveur !</p>"
            ]
        },
        {
            "cell_type": "markdown",
            "metadata": {},
            "source": [
                "<div style=\"background-color:#eef;padding:10px;border-radius:3px\">\n",
                "<b>3.7 -</b> <b>Suppression d'un message via l'interface.</b>\n",
                "\n",
                "<p>Pour supprimer un message il va falloir que l'utilisateur donne le mot de passe correspondant au pseudo associ\u00e9 au message dans la base de donn\u00e9es. Il faut pour cela ajouter \u00e0 votre interface <tt>index.html</tt> le code suivant permettant de saisir le pseudo&nbsp;:\n",
                "<pre>\n",
                "&lt;div id=\"pwd_request\" class=\"popup\">\n",
                "  &lt;header id=\"pwd_request_header\" class=\"handle\">Entrer le mot de passe&lt;/header>\n",
                "  &lt;label>&lt;span>password : &lt;/span>&lt;input id=\"enter_pwd\" type=\"password\">&lt;/label>\n",
                "  &lt;footer>&lt;button id=\"confirm_pwd\">Ok&lt;/button>&lt;/footer>\n",
                "&lt;/div>\n",
                "</pre>\n",
                "</div>\n"
            ]
        },
        {
            "cell_type": "markdown",
            "metadata": {},
            "source": [
                "Si vous saississez <u>exactement ce code html</u>, que vous avez inclus la feuille de style <tt>comments.css</tt> et les fichiers javascript <tt>apputils.js</tt> et <tt>comments.js</tt>, et que votre serveur r\u00e9pond bien \u00e0 la requ\u00eate <tt>DELETE</tt> comme demand\u00e9 plus haut, la magie devrait s'op\u00e9rer en cliquant sur le bouton de suppression d'un commentaire...\n",
                "\n",
                "<p>Pensez \u00e0 committer et \u00e0 mettre \u00e0 jour votre projet sur le serveur gitlab.</p>"
            ]
        },
        {
            "cell_type": "markdown",
            "metadata": {},
            "source": [
                "<div style=\"background-color:#eef;padding:10px;border-radius:3px\">\n",
                "<b>3.8 -</b> <b>Cr\u00e9ation d'un message via l'interface.</b>\n",
                "\n",
                "<p>Afin de pouvoir cr\u00e9er un message associ\u00e9 \u00e0 un point d'int\u00e9ret, il faudra&nbsp;:\n",
                "<ul>\n",
                "<li>Ajouter un bouton qui permettra de cr\u00e9er un message :\n",
                "<pre>&lt;button id=\"add_comment\" class=\"show_popup\" data-popup=\"message_editor\">\n",
                "  Laisser un message\n",
                "&lt;/button></pre></li>\n",
                "<li>Ajouter le code HTML suivant pour permettre la saisie des messages :\n",
                "<pre>\n",
                "&lt;div id=\"message_editor\" class=\"resizable popup\">\n",
                "  &lt;header id=\"message_editor_header\" class=\"handle\">&Eacute;dition d'un message&lt;/header>\n",
                "  &lt;label>&lt;span>pseudo : &lt;/span>&lt;input id=\"input_pseudo\">&lt;/label>\n",
                "  &lt;label>&lt;span>password : &lt;/span>&lt;input id=\"input_password\" type=\"password\">&lt;/label>\n",
                "  &lt;label>&lt;span>date de visite : &lt;/span>&lt;input id=\"input_date\">&lt;/label>\n",
                "  &lt;label>&lt;span>message : &lt;/span>&lt;textarea id=\"input_message\">&lt;/textarea>&lt;/label>\n",
                "  &lt;footer>\n",
                "    &lt;button id=\"create_message\">Envoyer&lt;/button>\n",
                "    &lt;button id=\"hide_editor\" class=\"hide_popup\">Abandonner&lt;/button>\n",
                "  &lt;/footer>\n",
                "&lt;/div>\n",
                "</pre>\n",
                "</li>\n",
                "<li>Et d\u00e9clarer le gestionnaire d'\u00e9v\u00e9nement associ\u00e9 au bouton de cr\u00e9ation  d'un message :\n",
                "<pre>\n",
                "create_message.addEventListener('click', post_message);\n",
                "</pre>\n",
                "</li>\n",
                "</ul>\n",
                "</div>\n"
            ]
        },
        {
            "cell_type": "markdown",
            "metadata": {},
            "source": [
                "Si votre serveur r\u00e9pond correctement \u00e0 la requ\u00eate <tt>POST /commentaire</tt>, l\u00e0 encore la magie devrait op\u00e9rer, et votre application devrait maintenant \u00eatre op\u00e9rationnelle.\n",
                "\n",
                "Commitez et poussez sur le serveur."
            ]
        },
        {
            "cell_type": "markdown",
            "metadata": {},
            "source": [
                "#### c) Fonctionnalit\u00e9s optionnelles\n",
                "\n",
                "Pour poursuivre le d\u00e9veloppement de votre application vous pouvez \u00e9galement, en fonction de vos pr\u00e9f\u00e9rences :\n",
                "<ul>\n",
                "<li>Peaufiner la pr\u00e9sentation, notamment en adaptant le style des popups (couleurs, polices...) \u00e0 votre application.\n",
                "<li>Compl\u00e9ter les donn\u00e9es (cf. notebook avec la requ\u00eate SPARQL et code python pour le nettoyage des donn\u00e9es).\n",
                "<li>Permettre la gestion des utilisateurs (cr\u00e9ation, suppression) via l'interface, moyennant par exemple la saisie du pseudo et du mot de passe d'un \"administrateur\".\n",
                "<li>Renvoyer d'autres informations au client. On peut par exemple penser \u00e0 indiquer le nombre de commentaires existants pour un point d'int\u00e9r\u00eat en r\u00e9ponse \u00e0 une requ\u00eate <tt>GET /commentaires/&lt;nom-du-site&gt;</tt> (cf. question 3.4), sous la forme d'un champ suppl\u00e9mentaire nomm\u00e9 <tt>num_comments</tt>, et exploiter cette information dans l'interface.\n",
                "</ul>\n",
                "\n",
                "<img src=\"num_comments.png\" style=\"border-radius: 7px; border: 1px solid black;box-shadow: 5px 5px 5px black\" width=\"250\">\n",
                "<div style=\"text-align:center; font-size:80%; margin-top:0.5em\">Exemple de pr\u00e9sentation de l'information <tt>num_comments</tt></div>"
            ]
        },
        {
            "cell_type": "code",
            "execution_count": 1,
            "metadata": {
                "collapsed": true
            },
            "outputs": [],
            "source": []
        }
    ],
    "metadata": {
        "kernelspec": {
            "display_name": "Python 3",
            "language": "python",
            "name": "python3"
        },
        "language_info": {
            "codemirror_mode": {
                "name": "ipython",
                "version": 3
            },
            "file_extension": ".py",
            "mimetype": "text/x-python",
            "name": "python",
            "nbconvert_exporter": "python",
            "pygments_lexer": "ipython3",
            "version": "3.6.6"
        }
    },
    "nbformat": 4,
    "nbformat_minor": 2
}